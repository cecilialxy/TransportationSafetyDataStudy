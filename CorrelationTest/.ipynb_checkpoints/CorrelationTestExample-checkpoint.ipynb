{
 "cells": [
  {
   "cell_type": "code",
   "execution_count": 1,
   "metadata": {},
   "outputs": [],
   "source": [
    "import pandas as pd\n",
    "import numpy as np\n",
    "import pickle"
   ]
  },
  {
   "cell_type": "code",
   "execution_count": 2,
   "metadata": {},
   "outputs": [],
   "source": [
    "base_file_dir = \"L:/Safety Forecasting Tool/\""
   ]
  },
  {
   "cell_type": "code",
   "execution_count": 3,
   "metadata": {},
   "outputs": [],
   "source": [
    "with open(base_file_dir+'data/processed/df_rural_train.pkl', 'rb') as f:\n",
    "    df_rural_train = pickle.load(f)\n",
    "with open(base_file_dir+'data/processed/df_rural_train_label.pkl', 'rb') as f:\n",
    "    df_rural_train_label = pickle.load(f)\n",
    "with open(base_file_dir+'data/processed/df_urban_train.pkl', 'rb') as f:\n",
    "    df_urban_train = pickle.load(f)\n",
    "with open(base_file_dir+'data/processed/df_urban_train_label.pkl', 'rb') as f:\n",
    "    df_urban_train_label = pickle.load(f)"
   ]
  },
  {
   "cell_type": "code",
   "execution_count": 4,
   "metadata": {},
   "outputs": [
    {
     "data": {
      "text/plain": [
       "Index(['sub_segment_index', 'st_length', 'curve_ratio', 'one_way',\n",
       "       'bicycle_facility_width', 'bicycle_path_category',\n",
       "       'bicycle_buffer_width', 'bicycle_buffer_type', 'bicycle_path_type',\n",
       "       'bicycle_approach_alignment', 'bus_trips_total', 'crossing_aadt',\n",
       "       'crossing_functional_classification', 'crossing_speed',\n",
       "       'functional_classification', 'intersection_control_type',\n",
       "       'lane_configuration', 'max_lanes_crossed', 'parking_lane_width',\n",
       "       'marked_center_line', 'posted_speed', 'railroad_crossing_type',\n",
       "       'right_turn_length', 'road_sign_type', 'sidewalk_buffer_width',\n",
       "       'sidewalk_condition_score', 'sidewalk_width', 'sidewalk_buffer_type',\n",
       "       'total_lanes', 'in_urbanized_area', 'volume_capacity',\n",
       "       'overall_landuse', 'ACC_CNTL', 'I_SHD1_TYP', 'I_SHD1_WTH', 'I_SHD2_TYP',\n",
       "       'I_SHD2_WTH', 'LN_WTH', 'LNS', 'MED_TYP', 'MED_WTH', 'SURF_TYP',\n",
       "       'SURF_WTH', 'O_SHD1_TYP', 'O_SHD1_WTH', 'O_SHD2_TYP', 'O_SHD2_WTH',\n",
       "       'OP_1_2_WAY', 'PRK_LT', 'PRK_RT', 'JUR_TYPE', 'MPO', 'MUNI_NAME', 'NHS',\n",
       "       'TRK_RT', 'AADT', 'HCV', 'Pop_den', 'PC', 'geometry', 'Year'],\n",
       "      dtype='object')"
      ]
     },
     "execution_count": 4,
     "metadata": {},
     "output_type": "execute_result"
    }
   ],
   "source": [
    "df_rural_train.columns"
   ]
  },
  {
   "cell_type": "markdown",
   "metadata": {},
   "source": [
    "Nominal X * Nominal Y: Test if there is an association between road sign (Yes/No) and crash occurrence (Crash/No Crash)"
   ]
  },
  {
   "cell_type": "code",
   "execution_count": null,
   "metadata": {},
   "outputs": [],
   "source": [
    "df_rural_train['']"
   ]
  }
 ],
 "metadata": {
  "kernelspec": {
   "display_name": "Python 3",
   "language": "python",
   "name": "python3"
  },
  "language_info": {
   "codemirror_mode": {
    "name": "ipython",
    "version": 3
   },
   "file_extension": ".py",
   "mimetype": "text/x-python",
   "name": "python",
   "nbconvert_exporter": "python",
   "pygments_lexer": "ipython3",
   "version": "3.7.6"
  }
 },
 "nbformat": 4,
 "nbformat_minor": 4
}
