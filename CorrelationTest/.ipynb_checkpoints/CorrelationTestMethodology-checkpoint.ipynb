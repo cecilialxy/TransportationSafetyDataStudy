{
 "cells": [
  {
   "cell_type": "code",
   "execution_count": null,
   "metadata": {},
   "outputs": [],
   "source": []
  },
  {
   "cell_type": "markdown",
   "metadata": {},
   "source": [
    "[Odds-ratio](https://www.ncbi.nlm.nih.gov/pmc/articles/PMC2938757/) $OR$\n",
    "- Purpose: Measure the association between exposure and outcome. Good for case control studies. \n",
    "- Mathematics: \n",
    " \n",
    "Odds = ${\\frac{p}{1-p}}$\n",
    "   - p is the probability of an event occurring\n",
    "\n",
    "$OR$ (Odds-ratio) = Odds that the event will occur with the exposure / Odds that the event will occur without the exposure = ${\\frac{a}{b}}$/${\\frac{c}{d}}$\n",
    "\n",
    "|   | Outcome Status +   | Outcome Status -  |\n",
    "|------|------|------|\n",
    "|**Exposure Status +**|a (Number of exposed cases)| b (Number of exposed non-cases)|\n",
    "|**Exposure Status -**|c (Number of unexposed cases)| d (Number of unexposed non-cases) |\n",
    "\n",
    "- Interpretation:\n",
    "    - OR = 1 Exposure does not affect the outcome.\n",
    "    - OR > 1 Exposure associated with higher odds of outcome.\n",
    "    - OR < 1 Exposure associated with lower odds of outcome. \n",
    "- Code example: [Scipy fisher_exact](https://docs.scipy.org/doc/scipy/reference/generated/scipy.stats.fisher_exact.html)   "
   ]
  },
  {
   "cell_type": "code",
   "execution_count": null,
   "metadata": {},
   "outputs": [],
   "source": []
  },
  {
   "cell_type": "markdown",
   "metadata": {},
   "source": [
    "[Chi-square test of independence](https://www.ncbi.nlm.nih.gov/pmc/articles/PMC3900058/#:~:text=The%20assumptions%20of%20the%20Chi,the%20variables%20are%20mutually%20exclusive) $\\chi^2$\n",
    "- Purpose: Test if there is a statistically significant difference between each groups and find out which group is different from others.\n",
    "- Non-parametric\n",
    "- Null Hypothesis: $H_0$: Variable_1 is independent of Variable_2. \n",
    "- Mathematics: $\\chi^2 = \\Sigma{\\frac{(observed-expected)^2}{expected}} $\n",
    "    - Degree of freedom: (r - 1) * (c - 1), r = number of rows, c = number of columns\n",
    "    - P-value: P($\\chi^2$>$ x^2 $), the probability of observing a value at least as extreme as the test statistic for a chi-square distribution with (r-1)(c-1) degrees of freedom.Compare the P-value with the predefined significance level $alpha$ (for example, $alpha$=0.05). If P-value < $alpha$, then $H_0$should be rejected. \n",
    "- Requirements/Assumptions:\n",
    "    - `Both independent variable and dependent variable are categorical variables`.\n",
    "    - Independent variable must have more than 2 independent groups.\n",
    "    - Observations are independent (thus it can not be used for pre-test and post-test observations).\n",
    "    - Expected frequencies for each cell should be at least one. Expected frequency for most cells should be at least 5. \n",
    "- Note: It only assess the association. It doesn't provide any causation inference.\n",
    "- Code example: [A Gentle Introduction to the Chi-Squared Test for Machine Learning](https://machinelearningmastery.com/chi-squared-test-for-machine-learning/)"
   ]
  },
  {
   "cell_type": "code",
   "execution_count": null,
   "metadata": {},
   "outputs": [],
   "source": []
  },
  {
   "cell_type": "markdown",
   "metadata": {},
   "source": [
    "[Cramer's V Coefficient](http://www.acastat.com/statbook/chisqassoc.htm) $\\varphi_c$\n",
    "- Purpose: Determine the strength of association after <font color='blue'>Chi-square test</font> has determined significance.Useful for comparing multiple Chi-square test statistics\n",
    "- Non-parametric\n",
    "- Mathematics: $V=\\sqrt{\\frac{\\chi^2}{n(q-1)}}$ \n",
    "    - q is the smaller number of columns or rows \n",
    "    - n is the total number of observations\n",
    "- Interpretation:A general rule of interpreting the association strength:\n",
    "    - less than 0.1 weak\n",
    "    - 0.1~0.3 moderate\n",
    "    - greater than 0.3 strong\n",
    "- Requirements/Assumptions:\n",
    "    - Can be used for `Nominal variables or higher (Ordinal variable and Discrete variable)`.\n",
    "- Note: \n",
    "    - It's a symmetrical measure. Which variable is treated as dependent variable and which variable is treated as independent variable does not matter. Also, the order (arrangement) of rows and columns does not matter. \n",
    "    - [Phi-coefficient](http://www.people.vcu.edu/~pdattalo/702SuppRead/MeasAssoc/NominalAssoc.html#:~:text=Note%20measures%20of%20association%2C%20unlike,the%20coefficient%20to%20reach%201.0.) is a special case of Cramer's V for 2x2 table.\n",
    "- Code example: [Cramer's coefficient](https://stackoverflow.com/questions/20892799/using-pandas-calculate-cram%C3%A9rs-coefficient-matrix)"
   ]
  },
  {
   "cell_type": "code",
   "execution_count": null,
   "metadata": {},
   "outputs": [],
   "source": []
  },
  {
   "cell_type": "markdown",
   "metadata": {},
   "source": [
    "[Goodman-Kruskal's statistics]\n",
    "\n",
    "- Non-parametric\n",
    "\n",
    "(1) [Goodman-Kruskal's tau](https://support.minitab.com/en-us/minitab/19/help-and-how-to/statistics/tables/supporting-topics/other-statistics-and-tests/what-are-the-goodman-kruskal-statistics/)\n",
    "- Purpose: Measure the direction and strength of association between `two Nominal variables`. It measures the percentage improvement in predictability of the dependent variable (column or row) given the value of independent variable (row or column)\n",
    "- Mathematics: [Goodman and Kruskal’s tau measure](https://cran.r-project.org/web/packages/GoodmanKruskal/vignettes/GoodmanKruskal.html)\n",
    "\n",
    "(2) [Goodman-Kruskal's lambda](https://en.wikipedia.org/wiki/Goodman_and_Kruskal%27s_lambda)\n",
    "- Purpose: The same as Goodman-Kruskal's tau\n",
    "- Mathematics: $\\frac{S-R}{N-R}$\n",
    "    - S is the sum of the highest cell count for each row.\n",
    "    - R is the highest row total.\n",
    "    - N is the total of all the cell counts.\n",
    "    \n",
    "(3) Goodman-Kruskal's gamma\n",
    "- Purpose: Test if there is a monotonic relationship between `two Ordinal variables`.\n",
    "- Mathematics: [Goodman-Kruskal's gamma](https://en.wikipedia.org/wiki/Goodman_and_Kruskal%27s_gamma)\n",
    "- Note:\n",
    "    - Yule's Q is a special case for 2x2 table."
   ]
  },
  {
   "cell_type": "code",
   "execution_count": null,
   "metadata": {},
   "outputs": [],
   "source": []
  },
  {
   "cell_type": "markdown",
   "metadata": {},
   "source": [
    "[One-way ANOVA](https://statistics.laerd.com/spss-tutorials/one-way-anova-using-spss-statistics.php)\n",
    "- Purpose: Test if there is a significant difference between the means of multiple groups.\n",
    "- Null Hypothesis: $H_0$: $u_1$ = $u_2$ = $\\dots$ = $u_k$\n",
    "    - $u$ is the group mean, $k$ is the number of groups\n",
    "- Requirements/Assumptions:\n",
    "    - `The dependent variable is Continuous variable. The independent variable must have more than 2 independent groups.` \n",
    "    - The dependent variable should be approximately normally distributed for each independent variable group. \n",
    "    - The variance of each group should be the same (homogeneity of variance).\n",
    "    - Observations are independent, and do not have significant outliers.\n",
    "- <mark>Interpretation:</mark>\n",
    "- Drawbacks:\n",
    "    - Cannot tell which groups are statistically significant different from the others. Post-hoc-test is needed to help find out which group is different. \n",
    "        - [Tukey’s Honest Significant Difference (HSD)](#https://stats.libretexts.org/Bookshelves/Applied_Statistics/Book%3A_An_Introduction_to_Psychological_Statistics_(Foster_et_al.)/11%3A_Analysis_of_Variance/11.08%3A_Post_Hoc_Tests#:~:text=A%20post%20hoc%20test%20is,will%20give%20us%20similar%20answers.) is one of the commonly used post-hoc-test method.\n",
    "- Code example: [Scipy f_oneway](https://docs.scipy.org/doc/scipy/reference/generated/scipy.stats.f_oneway.html)"
   ]
  },
  {
   "cell_type": "code",
   "execution_count": null,
   "metadata": {},
   "outputs": [],
   "source": []
  },
  {
   "cell_type": "markdown",
   "metadata": {},
   "source": [
    "Spearman's rank-order correlation "
   ]
  },
  {
   "cell_type": "code",
   "execution_count": null,
   "metadata": {},
   "outputs": [],
   "source": []
  },
  {
   "cell_type": "markdown",
   "metadata": {},
   "source": [
    " Kendall's tau-b"
   ]
  },
  {
   "cell_type": "code",
   "execution_count": null,
   "metadata": {},
   "outputs": [],
   "source": []
  },
  {
   "cell_type": "markdown",
   "metadata": {},
   "source": [
    "Pearson correlation"
   ]
  },
  {
   "cell_type": "code",
   "execution_count": null,
   "metadata": {},
   "outputs": [],
   "source": []
  },
  {
   "cell_type": "markdown",
   "metadata": {},
   "source": [
    "Spearman correlation"
   ]
  },
  {
   "cell_type": "code",
   "execution_count": null,
   "metadata": {},
   "outputs": [],
   "source": []
  },
  {
   "cell_type": "markdown",
   "metadata": {},
   "source": [
    "<mark>Other good resources:</mark>\n",
    "- [WHAT STATISTICAL TEST DO I NEED?](http://www.mash.dept.shef.ac.uk/Resources/MASH-WhatStatisticalTestHandout.pdf)"
   ]
  },
  {
   "cell_type": "code",
   "execution_count": null,
   "metadata": {},
   "outputs": [],
   "source": []
  }
 ],
 "metadata": {
  "kernelspec": {
   "display_name": "Python 3",
   "language": "python",
   "name": "python3"
  },
  "language_info": {
   "codemirror_mode": {
    "name": "ipython",
    "version": 3
   },
   "file_extension": ".py",
   "mimetype": "text/x-python",
   "name": "python",
   "nbconvert_exporter": "python",
   "pygments_lexer": "ipython3",
   "version": "3.7.6"
  }
 },
 "nbformat": 4,
 "nbformat_minor": 4
}
