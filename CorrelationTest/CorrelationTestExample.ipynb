{
 "cells": [
  {
   "cell_type": "code",
   "execution_count": 1,
   "metadata": {},
   "outputs": [],
   "source": [
    "import pandas as pd\n",
    "import numpy as np\n",
    "import pickle\n",
    "import matplotlib.pyplot as plt"
   ]
  },
  {
   "cell_type": "code",
   "execution_count": 2,
   "metadata": {},
   "outputs": [],
   "source": [
    "import scipy.stats"
   ]
  },
  {
   "cell_type": "code",
   "execution_count": 3,
   "metadata": {},
   "outputs": [],
   "source": [
    "base_file_dir = \"L:/Safety Forecasting Tool/\""
   ]
  },
  {
   "cell_type": "code",
   "execution_count": 4,
   "metadata": {},
   "outputs": [],
   "source": [
    "with open(base_file_dir+'data/processed/df_rural_train.pkl', 'rb') as f:\n",
    "    df_rural_train = pickle.load(f)\n",
    "with open(base_file_dir+'data/processed/df_rural_train_label.pkl', 'rb') as f:\n",
    "    df_rural_train_label = pickle.load(f)\n",
    "with open(base_file_dir+'data/processed/df_urban_train.pkl', 'rb') as f:\n",
    "    df_urban_train = pickle.load(f)\n",
    "with open(base_file_dir+'data/processed/df_urban_train_label.pkl', 'rb') as f:\n",
    "    df_urban_train_label = pickle.load(f)"
   ]
  },
  {
   "cell_type": "markdown",
   "metadata": {},
   "source": [
    "# Workflow \n",
    "\n",
    "<font color=\"purple\"> **5 Steps of performing correlation test** </font>\n",
    "\n",
    "- Step 1: Examine the raw data\n",
    "    - From tables\n",
    "    - From figures\n",
    "- Step 2: Select correct statistical test methods\n",
    "- Step 3: Adapt data for statistical test\n",
    "- Step 4: Perform statistical test\n",
    "- Step 5: Interpret the test results \n",
    "    - From mathematical aspect\n",
    "    - Relate with the study purpose"
   ]
  },
  {
   "cell_type": "markdown",
   "metadata": {},
   "source": [
    "# Examples"
   ]
  },
  {
   "cell_type": "markdown",
   "metadata": {},
   "source": [
    "## Example 1: Nominal X * Nominal Y: "
   ]
  },
  {
   "cell_type": "markdown",
   "metadata": {},
   "source": [
    "Test if there is an association between road sign (Yes/No) and crash occurrence (Crash/No Crash)"
   ]
  },
  {
   "cell_type": "code",
   "execution_count": 5,
   "metadata": {},
   "outputs": [
    {
     "data": {
      "text/html": [
       "<div>\n",
       "<style scoped>\n",
       "    .dataframe tbody tr th:only-of-type {\n",
       "        vertical-align: middle;\n",
       "    }\n",
       "\n",
       "    .dataframe tbody tr th {\n",
       "        vertical-align: top;\n",
       "    }\n",
       "\n",
       "    .dataframe thead th {\n",
       "        text-align: right;\n",
       "    }\n",
       "</style>\n",
       "<table border=\"1\" class=\"dataframe\">\n",
       "  <thead>\n",
       "    <tr style=\"text-align: right;\">\n",
       "      <th>df_train_label</th>\n",
       "      <th>0.0</th>\n",
       "      <th>1.0</th>\n",
       "      <th>2.0</th>\n",
       "      <th>3.0</th>\n",
       "      <th>4.0</th>\n",
       "      <th>5.0</th>\n",
       "      <th>6.0</th>\n",
       "      <th>7.0</th>\n",
       "      <th>8.0</th>\n",
       "      <th>10.0</th>\n",
       "      <th>12.0</th>\n",
       "    </tr>\n",
       "    <tr>\n",
       "      <th>road_sign_type</th>\n",
       "      <th></th>\n",
       "      <th></th>\n",
       "      <th></th>\n",
       "      <th></th>\n",
       "      <th></th>\n",
       "      <th></th>\n",
       "      <th></th>\n",
       "      <th></th>\n",
       "      <th></th>\n",
       "      <th></th>\n",
       "      <th></th>\n",
       "    </tr>\n",
       "  </thead>\n",
       "  <tbody>\n",
       "    <tr>\n",
       "      <th>Flasher</th>\n",
       "      <td>1847</td>\n",
       "      <td>9</td>\n",
       "      <td>0</td>\n",
       "      <td>0</td>\n",
       "      <td>0</td>\n",
       "      <td>0</td>\n",
       "      <td>0</td>\n",
       "      <td>0</td>\n",
       "      <td>0</td>\n",
       "      <td>0</td>\n",
       "      <td>0</td>\n",
       "    </tr>\n",
       "    <tr>\n",
       "      <th>None</th>\n",
       "      <td>560769</td>\n",
       "      <td>6334</td>\n",
       "      <td>458</td>\n",
       "      <td>99</td>\n",
       "      <td>19</td>\n",
       "      <td>12</td>\n",
       "      <td>4</td>\n",
       "      <td>1</td>\n",
       "      <td>2</td>\n",
       "      <td>1</td>\n",
       "      <td>1</td>\n",
       "    </tr>\n",
       "    <tr>\n",
       "      <th>Other</th>\n",
       "      <td>8309</td>\n",
       "      <td>80</td>\n",
       "      <td>3</td>\n",
       "      <td>0</td>\n",
       "      <td>0</td>\n",
       "      <td>0</td>\n",
       "      <td>0</td>\n",
       "      <td>0</td>\n",
       "      <td>0</td>\n",
       "      <td>0</td>\n",
       "      <td>0</td>\n",
       "    </tr>\n",
       "    <tr>\n",
       "      <th>R2-1</th>\n",
       "      <td>75270</td>\n",
       "      <td>709</td>\n",
       "      <td>38</td>\n",
       "      <td>6</td>\n",
       "      <td>0</td>\n",
       "      <td>0</td>\n",
       "      <td>0</td>\n",
       "      <td>0</td>\n",
       "      <td>1</td>\n",
       "      <td>0</td>\n",
       "      <td>0</td>\n",
       "    </tr>\n",
       "    <tr>\n",
       "      <th>S1-1</th>\n",
       "      <td>48345</td>\n",
       "      <td>229</td>\n",
       "      <td>2</td>\n",
       "      <td>0</td>\n",
       "      <td>0</td>\n",
       "      <td>0</td>\n",
       "      <td>0</td>\n",
       "      <td>0</td>\n",
       "      <td>0</td>\n",
       "      <td>0</td>\n",
       "      <td>0</td>\n",
       "    </tr>\n",
       "    <tr>\n",
       "      <th>S4-5</th>\n",
       "      <td>5357</td>\n",
       "      <td>10</td>\n",
       "      <td>1</td>\n",
       "      <td>0</td>\n",
       "      <td>0</td>\n",
       "      <td>0</td>\n",
       "      <td>0</td>\n",
       "      <td>0</td>\n",
       "      <td>0</td>\n",
       "      <td>0</td>\n",
       "      <td>0</td>\n",
       "    </tr>\n",
       "    <tr>\n",
       "      <th>S4-5a</th>\n",
       "      <td>1403</td>\n",
       "      <td>5</td>\n",
       "      <td>0</td>\n",
       "      <td>0</td>\n",
       "      <td>0</td>\n",
       "      <td>0</td>\n",
       "      <td>0</td>\n",
       "      <td>0</td>\n",
       "      <td>0</td>\n",
       "      <td>0</td>\n",
       "      <td>0</td>\n",
       "    </tr>\n",
       "    <tr>\n",
       "      <th>S5-1</th>\n",
       "      <td>20061</td>\n",
       "      <td>75</td>\n",
       "      <td>0</td>\n",
       "      <td>0</td>\n",
       "      <td>0</td>\n",
       "      <td>0</td>\n",
       "      <td>0</td>\n",
       "      <td>0</td>\n",
       "      <td>0</td>\n",
       "      <td>0</td>\n",
       "      <td>0</td>\n",
       "    </tr>\n",
       "    <tr>\n",
       "      <th>S5-2</th>\n",
       "      <td>12233</td>\n",
       "      <td>47</td>\n",
       "      <td>0</td>\n",
       "      <td>0</td>\n",
       "      <td>0</td>\n",
       "      <td>0</td>\n",
       "      <td>0</td>\n",
       "      <td>0</td>\n",
       "      <td>0</td>\n",
       "      <td>0</td>\n",
       "      <td>0</td>\n",
       "    </tr>\n",
       "    <tr>\n",
       "      <th>SA</th>\n",
       "      <td>1613</td>\n",
       "      <td>19</td>\n",
       "      <td>0</td>\n",
       "      <td>0</td>\n",
       "      <td>0</td>\n",
       "      <td>0</td>\n",
       "      <td>0</td>\n",
       "      <td>0</td>\n",
       "      <td>0</td>\n",
       "      <td>0</td>\n",
       "      <td>0</td>\n",
       "    </tr>\n",
       "    <tr>\n",
       "      <th>W11-2</th>\n",
       "      <td>27280</td>\n",
       "      <td>277</td>\n",
       "      <td>3</td>\n",
       "      <td>0</td>\n",
       "      <td>0</td>\n",
       "      <td>0</td>\n",
       "      <td>0</td>\n",
       "      <td>0</td>\n",
       "      <td>0</td>\n",
       "      <td>0</td>\n",
       "      <td>0</td>\n",
       "    </tr>\n",
       "    <tr>\n",
       "      <th>W3-1</th>\n",
       "      <td>7054</td>\n",
       "      <td>34</td>\n",
       "      <td>0</td>\n",
       "      <td>0</td>\n",
       "      <td>0</td>\n",
       "      <td>0</td>\n",
       "      <td>0</td>\n",
       "      <td>0</td>\n",
       "      <td>0</td>\n",
       "      <td>0</td>\n",
       "      <td>0</td>\n",
       "    </tr>\n",
       "  </tbody>\n",
       "</table>\n",
       "</div>"
      ],
      "text/plain": [
       "df_train_label    0.0   1.0   2.0   3.0   4.0   5.0   6.0   7.0   8.0   10.0  \\\n",
       "road_sign_type                                                                 \n",
       "Flasher           1847     9     0     0     0     0     0     0     0     0   \n",
       "None            560769  6334   458    99    19    12     4     1     2     1   \n",
       "Other             8309    80     3     0     0     0     0     0     0     0   \n",
       "R2-1             75270   709    38     6     0     0     0     0     1     0   \n",
       "S1-1             48345   229     2     0     0     0     0     0     0     0   \n",
       "S4-5              5357    10     1     0     0     0     0     0     0     0   \n",
       "S4-5a             1403     5     0     0     0     0     0     0     0     0   \n",
       "S5-1             20061    75     0     0     0     0     0     0     0     0   \n",
       "S5-2             12233    47     0     0     0     0     0     0     0     0   \n",
       "SA                1613    19     0     0     0     0     0     0     0     0   \n",
       "W11-2            27280   277     3     0     0     0     0     0     0     0   \n",
       "W3-1              7054    34     0     0     0     0     0     0     0     0   \n",
       "\n",
       "df_train_label  12.0  \n",
       "road_sign_type        \n",
       "Flasher            0  \n",
       "None               1  \n",
       "Other              0  \n",
       "R2-1               0  \n",
       "S1-1               0  \n",
       "S4-5               0  \n",
       "S4-5a              0  \n",
       "S5-1               0  \n",
       "S5-2               0  \n",
       "SA                 0  \n",
       "W11-2              0  \n",
       "W3-1               0  "
      ]
     },
     "execution_count": 5,
     "metadata": {},
     "output_type": "execute_result"
    }
   ],
   "source": [
    "# Step 1: Examine the raw data\n",
    "pd.crosstab(df_urban_train['road_sign_type'],df_urban_train_label)"
   ]
  },
  {
   "cell_type": "markdown",
   "metadata": {},
   "source": [
    "Step 2: Select correct statistical test methods\n",
    "\n",
    "According to [Transportation-Study-Focused-CorrelationTest](./Transportation-Study-Focused-CorrelationTest.ipynb) chapter, there are two coefficients that are suitable for understanding the variable correlation: Odds-ratio and Phi-coefficient."
   ]
  },
  {
   "cell_type": "code",
   "execution_count": 6,
   "metadata": {},
   "outputs": [
    {
     "data": {
      "text/html": [
       "<div>\n",
       "<style scoped>\n",
       "    .dataframe tbody tr th:only-of-type {\n",
       "        vertical-align: middle;\n",
       "    }\n",
       "\n",
       "    .dataframe tbody tr th {\n",
       "        vertical-align: top;\n",
       "    }\n",
       "\n",
       "    .dataframe thead th {\n",
       "        text-align: right;\n",
       "    }\n",
       "</style>\n",
       "<table border=\"1\" class=\"dataframe\">\n",
       "  <thead>\n",
       "    <tr style=\"text-align: right;\">\n",
       "      <th>RoadSignOrNot</th>\n",
       "      <th>0</th>\n",
       "      <th>1</th>\n",
       "    </tr>\n",
       "    <tr>\n",
       "      <th>CrashOrNot</th>\n",
       "      <th></th>\n",
       "      <th></th>\n",
       "    </tr>\n",
       "  </thead>\n",
       "  <tbody>\n",
       "    <tr>\n",
       "      <th>0.0</th>\n",
       "      <td>560769</td>\n",
       "      <td>208772</td>\n",
       "    </tr>\n",
       "    <tr>\n",
       "      <th>1.0</th>\n",
       "      <td>6931</td>\n",
       "      <td>1548</td>\n",
       "    </tr>\n",
       "  </tbody>\n",
       "</table>\n",
       "</div>"
      ],
      "text/plain": [
       "RoadSignOrNot       0       1\n",
       "CrashOrNot                   \n",
       "0.0            560769  208772\n",
       "1.0              6931    1548"
      ]
     },
     "execution_count": 6,
     "metadata": {},
     "output_type": "execute_result"
    }
   ],
   "source": [
    "# Step 3: Adapt data for statistical test\n",
    "## Change road_sign_type to be road sign (Yes/No)\n",
    "## Change df_urban_train_label to be crash occurrence (Crash/No Crash)\n",
    "df_test = pd.DataFrame()\n",
    "df_test['RoadSignOrNot'] = df_urban_train['road_sign_type'].values\n",
    "df_test['RoadSignOrNot'] = df_test['RoadSignOrNot'].mask(df_urban_train['road_sign_type'].values!='None',1)\n",
    "df_test['RoadSignOrNot'] = df_test['RoadSignOrNot'].mask(df_urban_train['road_sign_type'].values=='None',0)\n",
    "df_test['CrashOrNot'] = df_urban_train_label.values\n",
    "df_test['CrashOrNot'] = df_test['CrashOrNot'].mask(df_test['CrashOrNot']>0,1)\n",
    "\n",
    "pd.crosstab(df_test.CrashOrNot,df_test.RoadSignOrNot)"
   ]
  },
  {
   "cell_type": "markdown",
   "metadata": {},
   "source": [
    "Confusion matrix:\n",
    "\n",
    "|   | Crash  | NoCrash |\n",
    "|------|------|------|\n",
    "|**With RoadSign**| 1548 |208772|\n",
    "|**Without RoadSign**|6931|560769|"
   ]
  },
  {
   "cell_type": "code",
   "execution_count": 7,
   "metadata": {},
   "outputs": [],
   "source": [
    "confusion_matrix = [[1548,208772],[6931,560769]]"
   ]
  },
  {
   "cell_type": "markdown",
   "metadata": {},
   "source": [
    "### Odds ratio"
   ]
  },
  {
   "cell_type": "code",
   "execution_count": 8,
   "metadata": {},
   "outputs": [
    {
     "name": "stdout",
     "output_type": "stream",
     "text": [
      "oddsratio:  0.5999109693760257\n",
      "pvalue:  8.734278956037942e-81\n"
     ]
    }
   ],
   "source": [
    "# Step 4: Perform statistical test\n",
    "oddsratio, pvalue = scipy.stats.fisher_exact(confusion_matrix)\n",
    "print('oddsratio: ', oddsratio)\n",
    "print('pvalue: ', pvalue)"
   ]
  },
  {
   "cell_type": "markdown",
   "metadata": {},
   "source": [
    "Step 5: Interpret the test results \n",
    "- From mathematical aspect\n",
    "    - Basing on the commonly used significance level (0.5), the p-value given by this test indicates that the test result is statistically significant.\n",
    "    - The oddsratio is <1 , which indicates that Exposure (With RoadSign) is associated with lower odds of outcome (Crash)\n",
    "\n",
    "- Relate with the study purpose\n",
    "    - In Urban area, having road sign installed is good for roadway safety."
   ]
  },
  {
   "cell_type": "markdown",
   "metadata": {},
   "source": [
    "### Phi-coefficient"
   ]
  },
  {
   "cell_type": "code",
   "execution_count": 9,
   "metadata": {},
   "outputs": [],
   "source": [
    "# Step 4: Perform statistical test\n",
    "    \n",
    "def PhiCoef(confusion_matrix):\n",
    "    \n",
    "    n11 = confusion_matrix[0][0]\n",
    "    n10 = confusion_matrix[0][1]\n",
    "    n01 = confusion_matrix[1][0]\n",
    "    n00 = confusion_matrix[1][1]\n",
    "    n1_ = n11+n10\n",
    "    n0_ = n01+n00\n",
    "    n_1 = n11+n01\n",
    "    n_0 = n10+n00\n",
    "    n = n11+n10+n01+n00\n",
    "    phi = (n11*n00-n10*n01)/(n1_*n0_*n_0*n_1)**0.5\n",
    "    return phi"
   ]
  },
  {
   "cell_type": "code",
   "execution_count": 10,
   "metadata": {},
   "outputs": [
    {
     "data": {
      "text/plain": [
       "-0.020741342447613317"
      ]
     },
     "execution_count": 10,
     "metadata": {},
     "output_type": "execute_result"
    }
   ],
   "source": [
    "PhiCoef(confusion_matrix)"
   ]
  },
  {
   "cell_type": "markdown",
   "metadata": {},
   "source": [
    "Step 5: Interpret the test results\n",
    "\n",
    "- From mathematical aspect\n",
    "\n",
    "    - The phi-coefficient is -0.2. It means there is an association between two variables, but the association is week. The value is negative, it means that the data falls off the diagonal cells (With RoadSign falls in NoCrash category, Without RoadSign falls in Crash Category)\n",
    "\n",
    "- Relate with the study purpose\n",
    "\n",
    "    - In Urban area, having road sign installed is good for roadway safety."
   ]
  },
  {
   "cell_type": "markdown",
   "metadata": {},
   "source": [
    "### Final conclusion\n",
    "\n",
    "The Odds-ratio and Phi-coefficient lead to the same conclusions:\n",
    "- There is an association between road sign (Yes/No) and crash occurrence (Crash/No Crash).\n",
    "- In Urban area, having road sign installed is good for roadway safety."
   ]
  },
  {
   "cell_type": "markdown",
   "metadata": {},
   "source": [
    "## Example 2: Discrete X  * Nominal Y"
   ]
  },
  {
   "cell_type": "markdown",
   "metadata": {},
   "source": [
    "Test if posted speed is associated with crash occurrence (Crash/No Crash)"
   ]
  },
  {
   "cell_type": "code",
   "execution_count": 11,
   "metadata": {},
   "outputs": [
    {
     "data": {
      "text/html": [
       "<div>\n",
       "<style scoped>\n",
       "    .dataframe tbody tr th:only-of-type {\n",
       "        vertical-align: middle;\n",
       "    }\n",
       "\n",
       "    .dataframe tbody tr th {\n",
       "        vertical-align: top;\n",
       "    }\n",
       "\n",
       "    .dataframe thead th {\n",
       "        text-align: right;\n",
       "    }\n",
       "</style>\n",
       "<table border=\"1\" class=\"dataframe\">\n",
       "  <thead>\n",
       "    <tr style=\"text-align: right;\">\n",
       "      <th>df_train_label</th>\n",
       "      <th>0.0</th>\n",
       "      <th>1.0</th>\n",
       "      <th>2.0</th>\n",
       "      <th>3.0</th>\n",
       "      <th>4.0</th>\n",
       "      <th>5.0</th>\n",
       "      <th>6.0</th>\n",
       "      <th>7.0</th>\n",
       "      <th>8.0</th>\n",
       "      <th>10.0</th>\n",
       "      <th>12.0</th>\n",
       "    </tr>\n",
       "    <tr>\n",
       "      <th>posted_speed</th>\n",
       "      <th></th>\n",
       "      <th></th>\n",
       "      <th></th>\n",
       "      <th></th>\n",
       "      <th></th>\n",
       "      <th></th>\n",
       "      <th></th>\n",
       "      <th></th>\n",
       "      <th></th>\n",
       "      <th></th>\n",
       "      <th></th>\n",
       "    </tr>\n",
       "  </thead>\n",
       "  <tbody>\n",
       "    <tr>\n",
       "      <th>5.0</th>\n",
       "      <td>96</td>\n",
       "      <td>0</td>\n",
       "      <td>0</td>\n",
       "      <td>0</td>\n",
       "      <td>0</td>\n",
       "      <td>0</td>\n",
       "      <td>0</td>\n",
       "      <td>0</td>\n",
       "      <td>0</td>\n",
       "      <td>0</td>\n",
       "      <td>0</td>\n",
       "    </tr>\n",
       "    <tr>\n",
       "      <th>10.0</th>\n",
       "      <td>1443</td>\n",
       "      <td>13</td>\n",
       "      <td>0</td>\n",
       "      <td>0</td>\n",
       "      <td>0</td>\n",
       "      <td>0</td>\n",
       "      <td>0</td>\n",
       "      <td>0</td>\n",
       "      <td>0</td>\n",
       "      <td>0</td>\n",
       "      <td>0</td>\n",
       "    </tr>\n",
       "    <tr>\n",
       "      <th>15.0</th>\n",
       "      <td>1888</td>\n",
       "      <td>8</td>\n",
       "      <td>0</td>\n",
       "      <td>0</td>\n",
       "      <td>0</td>\n",
       "      <td>0</td>\n",
       "      <td>0</td>\n",
       "      <td>0</td>\n",
       "      <td>0</td>\n",
       "      <td>0</td>\n",
       "      <td>0</td>\n",
       "    </tr>\n",
       "    <tr>\n",
       "      <th>20.0</th>\n",
       "      <td>39274</td>\n",
       "      <td>177</td>\n",
       "      <td>1</td>\n",
       "      <td>0</td>\n",
       "      <td>0</td>\n",
       "      <td>0</td>\n",
       "      <td>0</td>\n",
       "      <td>0</td>\n",
       "      <td>0</td>\n",
       "      <td>0</td>\n",
       "      <td>0</td>\n",
       "    </tr>\n",
       "    <tr>\n",
       "      <th>25.0</th>\n",
       "      <td>46788</td>\n",
       "      <td>524</td>\n",
       "      <td>12</td>\n",
       "      <td>0</td>\n",
       "      <td>0</td>\n",
       "      <td>0</td>\n",
       "      <td>0</td>\n",
       "      <td>0</td>\n",
       "      <td>0</td>\n",
       "      <td>0</td>\n",
       "      <td>0</td>\n",
       "    </tr>\n",
       "    <tr>\n",
       "      <th>30.0</th>\n",
       "      <td>518594</td>\n",
       "      <td>3490</td>\n",
       "      <td>111</td>\n",
       "      <td>13</td>\n",
       "      <td>4</td>\n",
       "      <td>0</td>\n",
       "      <td>0</td>\n",
       "      <td>0</td>\n",
       "      <td>0</td>\n",
       "      <td>0</td>\n",
       "      <td>0</td>\n",
       "    </tr>\n",
       "    <tr>\n",
       "      <th>35.0</th>\n",
       "      <td>111898</td>\n",
       "      <td>1995</td>\n",
       "      <td>130</td>\n",
       "      <td>26</td>\n",
       "      <td>6</td>\n",
       "      <td>6</td>\n",
       "      <td>2</td>\n",
       "      <td>0</td>\n",
       "      <td>1</td>\n",
       "      <td>0</td>\n",
       "      <td>0</td>\n",
       "    </tr>\n",
       "    <tr>\n",
       "      <th>40.0</th>\n",
       "      <td>11541</td>\n",
       "      <td>540</td>\n",
       "      <td>99</td>\n",
       "      <td>20</td>\n",
       "      <td>4</td>\n",
       "      <td>2</td>\n",
       "      <td>1</td>\n",
       "      <td>0</td>\n",
       "      <td>1</td>\n",
       "      <td>0</td>\n",
       "      <td>0</td>\n",
       "    </tr>\n",
       "    <tr>\n",
       "      <th>45.0</th>\n",
       "      <td>16523</td>\n",
       "      <td>315</td>\n",
       "      <td>43</td>\n",
       "      <td>14</td>\n",
       "      <td>0</td>\n",
       "      <td>1</td>\n",
       "      <td>0</td>\n",
       "      <td>0</td>\n",
       "      <td>0</td>\n",
       "      <td>0</td>\n",
       "      <td>0</td>\n",
       "    </tr>\n",
       "    <tr>\n",
       "      <th>50.0</th>\n",
       "      <td>618</td>\n",
       "      <td>12</td>\n",
       "      <td>1</td>\n",
       "      <td>1</td>\n",
       "      <td>0</td>\n",
       "      <td>0</td>\n",
       "      <td>0</td>\n",
       "      <td>0</td>\n",
       "      <td>0</td>\n",
       "      <td>0</td>\n",
       "      <td>0</td>\n",
       "    </tr>\n",
       "    <tr>\n",
       "      <th>55.0</th>\n",
       "      <td>17510</td>\n",
       "      <td>255</td>\n",
       "      <td>10</td>\n",
       "      <td>1</td>\n",
       "      <td>0</td>\n",
       "      <td>0</td>\n",
       "      <td>0</td>\n",
       "      <td>0</td>\n",
       "      <td>0</td>\n",
       "      <td>0</td>\n",
       "      <td>0</td>\n",
       "    </tr>\n",
       "    <tr>\n",
       "      <th>70.0</th>\n",
       "      <td>3368</td>\n",
       "      <td>499</td>\n",
       "      <td>98</td>\n",
       "      <td>30</td>\n",
       "      <td>5</td>\n",
       "      <td>3</td>\n",
       "      <td>1</td>\n",
       "      <td>1</td>\n",
       "      <td>1</td>\n",
       "      <td>1</td>\n",
       "      <td>1</td>\n",
       "    </tr>\n",
       "  </tbody>\n",
       "</table>\n",
       "</div>"
      ],
      "text/plain": [
       "df_train_label    0.0   1.0   2.0   3.0   4.0   5.0   6.0   7.0   8.0   10.0  \\\n",
       "posted_speed                                                                   \n",
       "5.0                 96     0     0     0     0     0     0     0     0     0   \n",
       "10.0              1443    13     0     0     0     0     0     0     0     0   \n",
       "15.0              1888     8     0     0     0     0     0     0     0     0   \n",
       "20.0             39274   177     1     0     0     0     0     0     0     0   \n",
       "25.0             46788   524    12     0     0     0     0     0     0     0   \n",
       "30.0            518594  3490   111    13     4     0     0     0     0     0   \n",
       "35.0            111898  1995   130    26     6     6     2     0     1     0   \n",
       "40.0             11541   540    99    20     4     2     1     0     1     0   \n",
       "45.0             16523   315    43    14     0     1     0     0     0     0   \n",
       "50.0               618    12     1     1     0     0     0     0     0     0   \n",
       "55.0             17510   255    10     1     0     0     0     0     0     0   \n",
       "70.0              3368   499    98    30     5     3     1     1     1     1   \n",
       "\n",
       "df_train_label  12.0  \n",
       "posted_speed          \n",
       "5.0                0  \n",
       "10.0               0  \n",
       "15.0               0  \n",
       "20.0               0  \n",
       "25.0               0  \n",
       "30.0               0  \n",
       "35.0               0  \n",
       "40.0               0  \n",
       "45.0               0  \n",
       "50.0               0  \n",
       "55.0               0  \n",
       "70.0               1  "
      ]
     },
     "execution_count": 11,
     "metadata": {},
     "output_type": "execute_result"
    }
   ],
   "source": [
    "# Step 1: Examine the raw data\n",
    "pd.crosstab(df_urban_train['posted_speed'],df_urban_train_label)"
   ]
  },
  {
   "cell_type": "markdown",
   "metadata": {},
   "source": [
    "Step 2: Select correct statistical test methods\n",
    "\n",
    "According to [Transportation-Study-Focused-CorrelationTest](./Transportation-Study-Focused-CorrelationTest.ipynb) chapter, Chi-square test and Cramer's V test should be conducted. \n",
    "\n",
    "Cramer's V test quantifies the strength of association after Chi-square test has determined significance."
   ]
  },
  {
   "cell_type": "code",
   "execution_count": 12,
   "metadata": {},
   "outputs": [
    {
     "name": "stdout",
     "output_type": "stream",
     "text": [
      "Observed value for each cell:\n"
     ]
    },
    {
     "data": {
      "text/html": [
       "<div>\n",
       "<style scoped>\n",
       "    .dataframe tbody tr th:only-of-type {\n",
       "        vertical-align: middle;\n",
       "    }\n",
       "\n",
       "    .dataframe tbody tr th {\n",
       "        vertical-align: top;\n",
       "    }\n",
       "\n",
       "    .dataframe thead th {\n",
       "        text-align: right;\n",
       "    }\n",
       "</style>\n",
       "<table border=\"1\" class=\"dataframe\">\n",
       "  <thead>\n",
       "    <tr style=\"text-align: right;\">\n",
       "      <th>posted_speed</th>\n",
       "      <th>5.0</th>\n",
       "      <th>10.0</th>\n",
       "      <th>15.0</th>\n",
       "      <th>20.0</th>\n",
       "      <th>25.0</th>\n",
       "      <th>30.0</th>\n",
       "      <th>35.0</th>\n",
       "      <th>40.0</th>\n",
       "      <th>45.0</th>\n",
       "      <th>50.0</th>\n",
       "      <th>55.0</th>\n",
       "      <th>70.0</th>\n",
       "    </tr>\n",
       "    <tr>\n",
       "      <th>CrashOrNot</th>\n",
       "      <th></th>\n",
       "      <th></th>\n",
       "      <th></th>\n",
       "      <th></th>\n",
       "      <th></th>\n",
       "      <th></th>\n",
       "      <th></th>\n",
       "      <th></th>\n",
       "      <th></th>\n",
       "      <th></th>\n",
       "      <th></th>\n",
       "      <th></th>\n",
       "    </tr>\n",
       "  </thead>\n",
       "  <tbody>\n",
       "    <tr>\n",
       "      <th>0.0</th>\n",
       "      <td>96</td>\n",
       "      <td>1443</td>\n",
       "      <td>1888</td>\n",
       "      <td>39274</td>\n",
       "      <td>46788</td>\n",
       "      <td>518594</td>\n",
       "      <td>111898</td>\n",
       "      <td>11541</td>\n",
       "      <td>16523</td>\n",
       "      <td>618</td>\n",
       "      <td>17510</td>\n",
       "      <td>3368</td>\n",
       "    </tr>\n",
       "    <tr>\n",
       "      <th>1.0</th>\n",
       "      <td>0</td>\n",
       "      <td>13</td>\n",
       "      <td>8</td>\n",
       "      <td>178</td>\n",
       "      <td>536</td>\n",
       "      <td>3618</td>\n",
       "      <td>2166</td>\n",
       "      <td>667</td>\n",
       "      <td>373</td>\n",
       "      <td>14</td>\n",
       "      <td>266</td>\n",
       "      <td>640</td>\n",
       "    </tr>\n",
       "  </tbody>\n",
       "</table>\n",
       "</div>"
      ],
      "text/plain": [
       "posted_speed  5.0   10.0  15.0   20.0   25.0    30.0    35.0   40.0   45.0  \\\n",
       "CrashOrNot                                                                   \n",
       "0.0             96  1443  1888  39274  46788  518594  111898  11541  16523   \n",
       "1.0              0    13     8    178    536    3618    2166    667    373   \n",
       "\n",
       "posted_speed  50.0   55.0  70.0  \n",
       "CrashOrNot                       \n",
       "0.0            618  17510  3368  \n",
       "1.0             14    266   640  "
      ]
     },
     "execution_count": 12,
     "metadata": {},
     "output_type": "execute_result"
    }
   ],
   "source": [
    "# Step 3: Adapt data for statistical test\n",
    "## Change df_urban_train_label to be crash occurrence (Crash/No Crash)\n",
    "df_test = pd.DataFrame()\n",
    "df_test['posted_speed'] = df_urban_train['posted_speed'].values\n",
    "df_test['CrashOrNot'] = df_urban_train_label.values\n",
    "df_test['CrashOrNot'] = df_test['CrashOrNot'].mask(df_test['CrashOrNot']>0,1)\n",
    "print('Observed value for each cell:')\n",
    "pd.crosstab(df_test.CrashOrNot,df_test.posted_speed)"
   ]
  },
  {
   "cell_type": "markdown",
   "metadata": {},
   "source": [
    "### Chi-square test"
   ]
  },
  {
   "cell_type": "code",
   "execution_count": 13,
   "metadata": {},
   "outputs": [
    {
     "name": "stdout",
     "output_type": "stream",
     "text": [
      "Chi-square of the whole table: 12243.561334220874\n",
      "p-value:  0.0\n",
      "Degree of freedom:  11\n",
      "Critical chi-square:  19.67513757268249\n"
     ]
    }
   ],
   "source": [
    "# Step 4: Perform statistical test\n",
    "chi2, p, dof, expected = scipy.stats.chi2_contingency(pd.crosstab(df_test.CrashOrNot,df_test.posted_speed))\n",
    "print('Chi-square of the whole table:',chi2)\n",
    "print('p-value: ',p)\n",
    "print('Degree of freedom: ',dof)\n",
    "print('Critical chi-square: ',scipy.stats.chi2.ppf(1-0.05, df=dof))\n",
    "chi2_bycell = (pd.crosstab(df_test.CrashOrNot,df_test.posted_speed)-expected)**2/expected"
   ]
  },
  {
   "cell_type": "code",
   "execution_count": 14,
   "metadata": {},
   "outputs": [
    {
     "name": "stdout",
     "output_type": "stream",
     "text": [
      "Expected value for each cell:\n"
     ]
    },
    {
     "data": {
      "text/html": [
       "<div>\n",
       "<style scoped>\n",
       "    .dataframe tbody tr th:only-of-type {\n",
       "        vertical-align: middle;\n",
       "    }\n",
       "\n",
       "    .dataframe tbody tr th {\n",
       "        vertical-align: top;\n",
       "    }\n",
       "\n",
       "    .dataframe thead th {\n",
       "        text-align: right;\n",
       "    }\n",
       "</style>\n",
       "<table border=\"1\" class=\"dataframe\">\n",
       "  <thead>\n",
       "    <tr style=\"text-align: right;\">\n",
       "      <th>posted_speed</th>\n",
       "      <th>5.0</th>\n",
       "      <th>10.0</th>\n",
       "      <th>15.0</th>\n",
       "      <th>20.0</th>\n",
       "      <th>25.0</th>\n",
       "      <th>30.0</th>\n",
       "      <th>35.0</th>\n",
       "      <th>40.0</th>\n",
       "      <th>45.0</th>\n",
       "      <th>50.0</th>\n",
       "      <th>55.0</th>\n",
       "      <th>70.0</th>\n",
       "    </tr>\n",
       "  </thead>\n",
       "  <tbody>\n",
       "    <tr>\n",
       "      <th>0</th>\n",
       "      <td>94.953775</td>\n",
       "      <td>1440.132254</td>\n",
       "      <td>1875.337056</td>\n",
       "      <td>39022.045104</td>\n",
       "      <td>46808.254652</td>\n",
       "      <td>516520.840971</td>\n",
       "      <td>112820.91029</td>\n",
       "      <td>12074.95505</td>\n",
       "      <td>16711.864394</td>\n",
       "      <td>625.112352</td>\n",
       "      <td>17582.273998</td>\n",
       "      <td>3964.320105</td>\n",
       "    </tr>\n",
       "    <tr>\n",
       "      <th>1</th>\n",
       "      <td>1.046225</td>\n",
       "      <td>15.867746</td>\n",
       "      <td>20.662944</td>\n",
       "      <td>429.954896</td>\n",
       "      <td>515.745348</td>\n",
       "      <td>5691.159029</td>\n",
       "      <td>1243.08971</td>\n",
       "      <td>133.04495</td>\n",
       "      <td>184.135606</td>\n",
       "      <td>6.887648</td>\n",
       "      <td>193.726002</td>\n",
       "      <td>43.679895</td>\n",
       "    </tr>\n",
       "  </tbody>\n",
       "</table>\n",
       "</div>"
      ],
      "text/plain": [
       "posted_speed       5.0          10.0         15.0          20.0          25.0  \\\n",
       "0             94.953775  1440.132254  1875.337056  39022.045104  46808.254652   \n",
       "1              1.046225    15.867746    20.662944    429.954896    515.745348   \n",
       "\n",
       "posted_speed           30.0          35.0         40.0          45.0  \\\n",
       "0             516520.840971  112820.91029  12074.95505  16711.864394   \n",
       "1               5691.159029    1243.08971    133.04495    184.135606   \n",
       "\n",
       "posted_speed        50.0          55.0         70.0  \n",
       "0             625.112352  17582.273998  3964.320105  \n",
       "1               6.887648    193.726002    43.679895  "
      ]
     },
     "execution_count": 14,
     "metadata": {},
     "output_type": "execute_result"
    }
   ],
   "source": [
    "print('Expected value for each cell:')\n",
    "pd.DataFrame(expected, columns = pd.crosstab(df_test.CrashOrNot,df_test.posted_speed).columns)"
   ]
  },
  {
   "cell_type": "code",
   "execution_count": 15,
   "metadata": {},
   "outputs": [
    {
     "name": "stdout",
     "output_type": "stream",
     "text": [
      "Chi-sauqre for each cell: \n"
     ]
    },
    {
     "data": {
      "text/html": [
       "<div>\n",
       "<style scoped>\n",
       "    .dataframe tbody tr th:only-of-type {\n",
       "        vertical-align: middle;\n",
       "    }\n",
       "\n",
       "    .dataframe tbody tr th {\n",
       "        vertical-align: top;\n",
       "    }\n",
       "\n",
       "    .dataframe thead th {\n",
       "        text-align: right;\n",
       "    }\n",
       "</style>\n",
       "<table border=\"1\" class=\"dataframe\">\n",
       "  <thead>\n",
       "    <tr style=\"text-align: right;\">\n",
       "      <th>posted_speed</th>\n",
       "      <th>5.0</th>\n",
       "      <th>10.0</th>\n",
       "      <th>15.0</th>\n",
       "      <th>20.0</th>\n",
       "      <th>25.0</th>\n",
       "      <th>30.0</th>\n",
       "      <th>35.0</th>\n",
       "      <th>40.0</th>\n",
       "      <th>45.0</th>\n",
       "      <th>50.0</th>\n",
       "      <th>55.0</th>\n",
       "      <th>70.0</th>\n",
       "    </tr>\n",
       "    <tr>\n",
       "      <th>CrashOrNot</th>\n",
       "      <th></th>\n",
       "      <th></th>\n",
       "      <th></th>\n",
       "      <th></th>\n",
       "      <th></th>\n",
       "      <th></th>\n",
       "      <th></th>\n",
       "      <th></th>\n",
       "      <th></th>\n",
       "      <th></th>\n",
       "      <th></th>\n",
       "      <th></th>\n",
       "    </tr>\n",
       "  </thead>\n",
       "  <tbody>\n",
       "    <tr>\n",
       "      <th>0.0</th>\n",
       "      <td>0.011528</td>\n",
       "      <td>0.005711</td>\n",
       "      <td>0.085505</td>\n",
       "      <td>1.626805</td>\n",
       "      <td>0.008764</td>\n",
       "      <td>8.321036</td>\n",
       "      <td>7.549694</td>\n",
       "      <td>23.611516</td>\n",
       "      <td>2.134397</td>\n",
       "      <td>0.080922</td>\n",
       "      <td>0.297091</td>\n",
       "      <td>89.699534</td>\n",
       "    </tr>\n",
       "    <tr>\n",
       "      <th>1.0</th>\n",
       "      <td>1.046225</td>\n",
       "      <td>0.518282</td>\n",
       "      <td>7.760276</td>\n",
       "      <td>147.646346</td>\n",
       "      <td>0.795452</td>\n",
       "      <td>755.204404</td>\n",
       "      <td>685.198660</td>\n",
       "      <td>2142.944888</td>\n",
       "      <td>193.714623</td>\n",
       "      <td>7.344386</td>\n",
       "      <td>26.963499</td>\n",
       "      <td>8140.991789</td>\n",
       "    </tr>\n",
       "  </tbody>\n",
       "</table>\n",
       "</div>"
      ],
      "text/plain": [
       "posted_speed      5.0       10.0      15.0        20.0      25.0        30.0  \\\n",
       "CrashOrNot                                                                     \n",
       "0.0           0.011528  0.005711  0.085505    1.626805  0.008764    8.321036   \n",
       "1.0           1.046225  0.518282  7.760276  147.646346  0.795452  755.204404   \n",
       "\n",
       "posted_speed        35.0         40.0        45.0      50.0       55.0  \\\n",
       "CrashOrNot                                                               \n",
       "0.0             7.549694    23.611516    2.134397  0.080922   0.297091   \n",
       "1.0           685.198660  2142.944888  193.714623  7.344386  26.963499   \n",
       "\n",
       "posted_speed         70.0  \n",
       "CrashOrNot                 \n",
       "0.0             89.699534  \n",
       "1.0           8140.991789  "
      ]
     },
     "execution_count": 15,
     "metadata": {},
     "output_type": "execute_result"
    }
   ],
   "source": [
    "print('Chi-sauqre for each cell: ')\n",
    "chi2_bycell"
   ]
  },
  {
   "cell_type": "markdown",
   "metadata": {},
   "source": [
    "Step 5: Interpret the test results\n",
    "\n",
    "- From mathematical aspect\n",
    "\n",
    "    - Step 1: Interpret the overall results:\n",
    "        - The  p-value is <0.05, it means that the test is statistical significant.\n",
    "        - The Chi-square value is large, which means the observed value is far from the expected value. If the two variables are independent, the observed value should be close to the expected value. Thus, there is a difference in occurrence of crashes between different posted speed group.\n",
    "    - Step 2: Interpret cell chi-square values\n",
    "        - The overall chi-square test results only shows there is a difference between groups but doesn't tell where is the difference and what is the characteristic of the difference. By further examining the chi-square for each cell, the following details can be found:\n",
    "            - First, groups of PostedSpeed=20, 30, 35, 40, 45, 55, 70 have large chi-square values.\n",
    "            - Second, \n",
    "                - The large chi-square values in PostedSpeed=20, PostedSpeed=30 group is caused by the fact that observed crashes are much less than the expected crashes.\n",
    "                - The large chi-square values in PostedSpeed=35, PostedSpeed=45, PostedSpeed=45, PostedSpeed=55, PostedSpeed=70 groups are caused by the fact that observed crashes are much more than the expected crashes.\n",
    "- Relate with the study purpose\n",
    "    - The urban data shows that there is a difference between each posted_speed group. \n",
    "    - In general, a high posted speed represents a large (positive) gap between the number of observed crashes and the number of expected crashes.\n"
   ]
  },
  {
   "cell_type": "markdown",
   "metadata": {},
   "source": [
    "### Cramer's V test "
   ]
  },
  {
   "cell_type": "code",
   "execution_count": 16,
   "metadata": {},
   "outputs": [
    {
     "name": "stdout",
     "output_type": "stream",
     "text": [
      "Cramer's V is:  0.12544648588063398\n"
     ]
    }
   ],
   "source": [
    "# Step 4: Perform statistical test\n",
    "n = np.sum(pd.crosstab(df_test.CrashOrNot,df_test.posted_speed).values)\n",
    "q = np.min(pd.crosstab(df_test.CrashOrNot,df_test.posted_speed).values.shape)\n",
    "cramerv = np.sqrt((chi2)/(n*(q-1)))\n",
    "print(\"Cramer's V is: \",cramerv)"
   ]
  },
  {
   "cell_type": "markdown",
   "metadata": {},
   "source": [
    "Step 5: Interpret the test results\n",
    "\n",
    "- From mathematical aspect\n",
    "    - The Cramer's V shows that there is a low association between posted_speed and crash occurrence (Crash/No Crash). \n",
    "- Relate with the study purpose\n",
    "    - First, posted_speed might not be the best way to reflect the real traffic speed. However, considering the data acquisition difficulty and the purpose of helping prevent dangers in the future, posted_speed is a good data resource.\n",
    "    - Second, there are multiple factors that are related with crashes. Cramer's V test for other factors also needed to be performed and the results should be compared together to determine which factors are relatively more informative.\n"
   ]
  },
  {
   "cell_type": "markdown",
   "metadata": {},
   "source": [
    "### Final conclusion\n",
    "\n",
    "- From the chi-square test, it can be known that there is a difference between different posted_speed groups.\n",
    "- By further examination, it can be known that in general, a high posted speed represents a large (positive) gap between the number of observed crashes and the number of expected crashes.\n",
    "- The Cramer's V test shows that the association between posted_speed and crash occurrence is not that strong. \n",
    "- Chi-square test and Cramer's V test for other factors also needed to be performed"
   ]
  },
  {
   "cell_type": "markdown",
   "metadata": {},
   "source": [
    "## Example 3:  Ordinal X * Ordinal Y"
   ]
  },
  {
   "cell_type": "markdown",
   "metadata": {},
   "source": [
    "Test if light condition is associated with crash severity level"
   ]
  },
  {
   "cell_type": "markdown",
   "metadata": {},
   "source": [
    "L:\\Safety Forecasting Tool\\data\\crashes_2014_2018 \n",
    "Clear -> Cloudy -> Rain - > Snow"
   ]
  },
  {
   "cell_type": "code",
   "execution_count": 17,
   "metadata": {},
   "outputs": [],
   "source": [
    "crash_data = pd.read_csv('L:\\Safety Forecasting Tool\\data\\crashes_2014_2018.csv')"
   ]
  },
  {
   "cell_type": "code",
   "execution_count": 18,
   "metadata": {},
   "outputs": [
    {
     "name": "stdout",
     "output_type": "stream",
     "text": [
      "['Darkness' 'Darkness / Lighted Road' 'Dawn' 'Daylight' 'Dusk' 'Unknown']\n",
      "['A Injury Crash' 'B Injury Crash' 'C Injury Crash' 'Fatal Crash'\n",
      " 'No Injuries']\n"
     ]
    }
   ],
   "source": [
    "# Step 1: Examine the raw data\n",
    "\n",
    "print(np.unique(crash_data['LightCondition']))\n",
    "print(np.unique(crash_data['CrashInjuriesSeverity']))"
   ]
  },
  {
   "cell_type": "markdown",
   "metadata": {},
   "source": [
    "Step 2: Select correct statistical test methods\n",
    "\n",
    "According to [Transportation-Study-Focused-CorrelationTest](./Transportation-Study-Focused-CorrelationTest.ipynb) chapter, \n",
    "The following two methods can be used:\n",
    "(1) Kendal's tau to measure the correspondence between the ranking of two variables.\n",
    "(2) Chi-square test and Cramer's V test to see if there is difference between groups. \n"
   ]
  },
  {
   "cell_type": "code",
   "execution_count": 19,
   "metadata": {},
   "outputs": [],
   "source": [
    "# Step 3: Adapt data for statistical test\n",
    "\n",
    "light_sverity_df = pd.DataFrame()\n",
    "light_sverity_df['LightLevel'] = crash_data['LightCondition'].values\n",
    "light_sverity_df['LightLevel'] = light_sverity_df['LightLevel'].mask(light_sverity_df['LightLevel'] =='Darkness', 1)\n",
    "light_sverity_df['LightLevel'] = light_sverity_df['LightLevel'].mask(light_sverity_df['LightLevel'] =='Darkness / Lighted Road', 2)\n",
    "light_sverity_df['LightLevel'] = light_sverity_df['LightLevel'].mask(light_sverity_df['LightLevel'] =='Dusk', 3)\n",
    "light_sverity_df['LightLevel'] = light_sverity_df['LightLevel'].mask(light_sverity_df['LightLevel'] =='Dawn', 3)\n",
    "light_sverity_df['LightLevel'] = light_sverity_df['LightLevel'].mask(light_sverity_df['LightLevel'] =='Daylight', 4)\n",
    "\n",
    "light_sverity_df['Severity'] = crash_data['CrashInjuriesSeverity'].values\n",
    "light_sverity_df['Severity'] = light_sverity_df['Severity'].mask(light_sverity_df['Severity'] == 'No Injuries',1)\n",
    "light_sverity_df['Severity'] = light_sverity_df['Severity'].mask(light_sverity_df['Severity'] == 'C Injury Crash',2)\n",
    "light_sverity_df['Severity'] = light_sverity_df['Severity'].mask(light_sverity_df['Severity'] == 'B Injury Crash',3)\n",
    "light_sverity_df['Severity'] = light_sverity_df['Severity'].mask(light_sverity_df['Severity'] == 'A Injury Crash',4)\n",
    "light_sverity_df['Severity'] = light_sverity_df['Severity'].mask(light_sverity_df['Severity'] == 'Fatal Crash',5)\n",
    "\n",
    "light_sverity_df = light_sverity_df[light_sverity_df['LightLevel']!='Unknown']"
   ]
  },
  {
   "cell_type": "code",
   "execution_count": 20,
   "metadata": {},
   "outputs": [],
   "source": [
    "light_sverity_stat = pd.crosstab(light_sverity_df['Severity'],light_sverity_df['LightLevel'])\n",
    "light_sverity_stat.columns = ['Darkness','Darkness / Lighted Road','Dusk or Dawn','Daylight']\n",
    "light_sverity_stat.index= ['No Injuries','C Injury Crash','B Injury Crash','A Injury Crash','Fatal Crash']"
   ]
  },
  {
   "cell_type": "code",
   "execution_count": 21,
   "metadata": {},
   "outputs": [
    {
     "data": {
      "text/plain": [
       "<matplotlib.axes._subplots.AxesSubplot at 0x1e11d21f708>"
      ]
     },
     "execution_count": 21,
     "metadata": {},
     "output_type": "execute_result"
    },
    {
     "data": {
      "image/png": "[encoded data removed]",
      "text/plain": [
       "<Figure size 432x288 with 1 Axes>"
      ]
     },
     "metadata": {
      "needs_background": "light"
     },
     "output_type": "display_data"
    }
   ],
   "source": [
    "light_sverity_stat.plot.bar()"
   ]
  },
  {
   "cell_type": "markdown",
   "metadata": {},
   "source": [
    "### Kendall's tau"
   ]
  },
  {
   "cell_type": "code",
   "execution_count": 22,
   "metadata": {},
   "outputs": [
    {
     "data": {
      "text/plain": [
       "KendalltauResult(correlation=0.00851695225886517, pvalue=0.22752446434640483)"
      ]
     },
     "execution_count": 22,
     "metadata": {},
     "output_type": "execute_result"
    }
   ],
   "source": [
    "# Step 4: Perform statistical test\n",
    "scipy.stats.kendalltau(light_sverity_df['LightLevel'].values,light_sverity_df['Severity'].values)"
   ]
  },
  {
   "cell_type": "markdown",
   "metadata": {},
   "source": [
    "Step 5: Interpret the test results\n",
    "    \n",
    "The p-value is larger than 0.5, indicating that the test result is not statistical significant"
   ]
  },
  {
   "cell_type": "markdown",
   "metadata": {},
   "source": [
    "### Chi-square test & Cramer's V test"
   ]
  },
  {
   "cell_type": "code",
   "execution_count": 23,
   "metadata": {},
   "outputs": [
    {
     "name": "stdout",
     "output_type": "stream",
     "text": [
      "Chi-square of the whole table: 89.95704574226889\n",
      "p-value:  5.0328318658898884e-14\n",
      "Degree of freedom:  12\n",
      "Critical chi-square:  21.02606981748307\n"
     ]
    }
   ],
   "source": [
    "# Step 4: Perform statistical test\n",
    "chi2, p, dof, expected = scipy.stats.chi2_contingency(light_sverity_stat)\n",
    "print('Chi-square of the whole table:',chi2)\n",
    "print('p-value: ',p)\n",
    "print('Degree of freedom: ',dof)\n",
    "print('Critical chi-square: ',scipy.stats.chi2.ppf(1-0.05, df=dof))\n",
    "chi2_bycell = (light_sverity_stat-expected)**2/expected"
   ]
  },
  {
   "cell_type": "code",
   "execution_count": 24,
   "metadata": {},
   "outputs": [
    {
     "name": "stdout",
     "output_type": "stream",
     "text": [
      "Observed frequency:\n"
     ]
    },
    {
     "data": {
      "text/html": [
       "<div>\n",
       "<style scoped>\n",
       "    .dataframe tbody tr th:only-of-type {\n",
       "        vertical-align: middle;\n",
       "    }\n",
       "\n",
       "    .dataframe tbody tr th {\n",
       "        vertical-align: top;\n",
       "    }\n",
       "\n",
       "    .dataframe thead th {\n",
       "        text-align: right;\n",
       "    }\n",
       "</style>\n",
       "<table border=\"1\" class=\"dataframe\">\n",
       "  <thead>\n",
       "    <tr style=\"text-align: right;\">\n",
       "      <th></th>\n",
       "      <th>Darkness</th>\n",
       "      <th>Darkness / Lighted Road</th>\n",
       "      <th>Dusk or Dawn</th>\n",
       "      <th>Daylight</th>\n",
       "    </tr>\n",
       "  </thead>\n",
       "  <tbody>\n",
       "    <tr>\n",
       "      <th>No Injuries</th>\n",
       "      <td>1912</td>\n",
       "      <td>1689</td>\n",
       "      <td>489</td>\n",
       "      <td>8733</td>\n",
       "    </tr>\n",
       "    <tr>\n",
       "      <th>C Injury Crash</th>\n",
       "      <td>125</td>\n",
       "      <td>247</td>\n",
       "      <td>52</td>\n",
       "      <td>1135</td>\n",
       "    </tr>\n",
       "    <tr>\n",
       "      <th>B Injury Crash</th>\n",
       "      <td>287</td>\n",
       "      <td>224</td>\n",
       "      <td>81</td>\n",
       "      <td>1198</td>\n",
       "    </tr>\n",
       "    <tr>\n",
       "      <th>A Injury Crash</th>\n",
       "      <td>103</td>\n",
       "      <td>96</td>\n",
       "      <td>25</td>\n",
       "      <td>513</td>\n",
       "    </tr>\n",
       "    <tr>\n",
       "      <th>Fatal Crash</th>\n",
       "      <td>24</td>\n",
       "      <td>11</td>\n",
       "      <td>7</td>\n",
       "      <td>39</td>\n",
       "    </tr>\n",
       "  </tbody>\n",
       "</table>\n",
       "</div>"
      ],
      "text/plain": [
       "                Darkness  Darkness / Lighted Road  Dusk or Dawn  Daylight\n",
       "No Injuries         1912                     1689           489      8733\n",
       "C Injury Crash       125                      247            52      1135\n",
       "B Injury Crash       287                      224            81      1198\n",
       "A Injury Crash       103                       96            25       513\n",
       "Fatal Crash           24                       11             7        39"
      ]
     },
     "execution_count": 24,
     "metadata": {},
     "output_type": "execute_result"
    }
   ],
   "source": [
    "print('Observed frequency:')\n",
    "light_sverity_stat"
   ]
  },
  {
   "cell_type": "code",
   "execution_count": 25,
   "metadata": {},
   "outputs": [
    {
     "name": "stdout",
     "output_type": "stream",
     "text": [
      "Expected value for each cell:\n"
     ]
    },
    {
     "data": {
      "text/html": [
       "<div>\n",
       "<style scoped>\n",
       "    .dataframe tbody tr th:only-of-type {\n",
       "        vertical-align: middle;\n",
       "    }\n",
       "\n",
       "    .dataframe tbody tr th {\n",
       "        vertical-align: top;\n",
       "    }\n",
       "\n",
       "    .dataframe thead th {\n",
       "        text-align: right;\n",
       "    }\n",
       "</style>\n",
       "<table border=\"1\" class=\"dataframe\">\n",
       "  <thead>\n",
       "    <tr style=\"text-align: right;\">\n",
       "      <th></th>\n",
       "      <th>Darkness</th>\n",
       "      <th>Darkness / Lighted Road</th>\n",
       "      <th>Dusk or Dawn</th>\n",
       "      <th>Daylight</th>\n",
       "    </tr>\n",
       "  </thead>\n",
       "  <tbody>\n",
       "    <tr>\n",
       "      <th>No Injuries</th>\n",
       "      <td>1849.863037</td>\n",
       "      <td>1710.991230</td>\n",
       "      <td>493.598705</td>\n",
       "      <td>8768.547028</td>\n",
       "    </tr>\n",
       "    <tr>\n",
       "      <th>C Injury Crash</th>\n",
       "      <td>224.903414</td>\n",
       "      <td>208.019600</td>\n",
       "      <td>60.010948</td>\n",
       "      <td>1066.066039</td>\n",
       "    </tr>\n",
       "    <tr>\n",
       "      <th>B Injury Crash</th>\n",
       "      <td>258.227781</td>\n",
       "      <td>238.842260</td>\n",
       "      <td>68.902884</td>\n",
       "      <td>1224.027075</td>\n",
       "    </tr>\n",
       "    <tr>\n",
       "      <th>A Injury Crash</th>\n",
       "      <td>106.320600</td>\n",
       "      <td>98.338964</td>\n",
       "      <td>28.369511</td>\n",
       "      <td>503.970924</td>\n",
       "    </tr>\n",
       "    <tr>\n",
       "      <th>Fatal Crash</th>\n",
       "      <td>11.685168</td>\n",
       "      <td>10.807946</td>\n",
       "      <td>3.117952</td>\n",
       "      <td>55.388935</td>\n",
       "    </tr>\n",
       "  </tbody>\n",
       "</table>\n",
       "</div>"
      ],
      "text/plain": [
       "                   Darkness  Darkness / Lighted Road  Dusk or Dawn  \\\n",
       "No Injuries     1849.863037              1710.991230    493.598705   \n",
       "C Injury Crash   224.903414               208.019600     60.010948   \n",
       "B Injury Crash   258.227781               238.842260     68.902884   \n",
       "A Injury Crash   106.320600                98.338964     28.369511   \n",
       "Fatal Crash       11.685168                10.807946      3.117952   \n",
       "\n",
       "                   Daylight  \n",
       "No Injuries     8768.547028  \n",
       "C Injury Crash  1066.066039  \n",
       "B Injury Crash  1224.027075  \n",
       "A Injury Crash   503.970924  \n",
       "Fatal Crash       55.388935  "
      ]
     },
     "execution_count": 25,
     "metadata": {},
     "output_type": "execute_result"
    }
   ],
   "source": [
    "print('Expected value for each cell:')\n",
    "pd.DataFrame(expected,\n",
    "             index=['No Injuries','C Injury Crash','B Injury Crash','A Injury Crash','Fatal Crash'],\n",
    "             columns= ['Darkness','Darkness / Lighted Road','Dusk or Dawn','Daylight'])"
   ]
  },
  {
   "cell_type": "code",
   "execution_count": 26,
   "metadata": {},
   "outputs": [
    {
     "name": "stdout",
     "output_type": "stream",
     "text": [
      "Chi-sauqre for each cell: \n"
     ]
    },
    {
     "data": {
      "text/html": [
       "<div>\n",
       "<style scoped>\n",
       "    .dataframe tbody tr th:only-of-type {\n",
       "        vertical-align: middle;\n",
       "    }\n",
       "\n",
       "    .dataframe tbody tr th {\n",
       "        vertical-align: top;\n",
       "    }\n",
       "\n",
       "    .dataframe thead th {\n",
       "        text-align: right;\n",
       "    }\n",
       "</style>\n",
       "<table border=\"1\" class=\"dataframe\">\n",
       "  <thead>\n",
       "    <tr style=\"text-align: right;\">\n",
       "      <th></th>\n",
       "      <th>Darkness</th>\n",
       "      <th>Darkness / Lighted Road</th>\n",
       "      <th>Dusk or Dawn</th>\n",
       "      <th>Daylight</th>\n",
       "    </tr>\n",
       "  </thead>\n",
       "  <tbody>\n",
       "    <tr>\n",
       "      <th>No Injuries</th>\n",
       "      <td>2.087183</td>\n",
       "      <td>0.282651</td>\n",
       "      <td>0.042845</td>\n",
       "      <td>0.144105</td>\n",
       "    </tr>\n",
       "    <tr>\n",
       "      <th>C Injury Crash</th>\n",
       "      <td>44.377682</td>\n",
       "      <td>7.304464</td>\n",
       "      <td>1.069393</td>\n",
       "      <td>4.457408</td>\n",
       "    </tr>\n",
       "    <tr>\n",
       "      <th>B Injury Crash</th>\n",
       "      <td>3.205854</td>\n",
       "      <td>0.922335</td>\n",
       "      <td>2.123862</td>\n",
       "      <td>0.553426</td>\n",
       "    </tr>\n",
       "    <tr>\n",
       "      <th>A Injury Crash</th>\n",
       "      <td>0.103709</td>\n",
       "      <td>0.055632</td>\n",
       "      <td>0.400205</td>\n",
       "      <td>0.161764</td>\n",
       "    </tr>\n",
       "    <tr>\n",
       "      <th>Fatal Crash</th>\n",
       "      <td>12.978427</td>\n",
       "      <td>0.003413</td>\n",
       "      <td>4.833397</td>\n",
       "      <td>4.849293</td>\n",
       "    </tr>\n",
       "  </tbody>\n",
       "</table>\n",
       "</div>"
      ],
      "text/plain": [
       "                 Darkness  Darkness / Lighted Road  Dusk or Dawn  Daylight\n",
       "No Injuries      2.087183                 0.282651      0.042845  0.144105\n",
       "C Injury Crash  44.377682                 7.304464      1.069393  4.457408\n",
       "B Injury Crash   3.205854                 0.922335      2.123862  0.553426\n",
       "A Injury Crash   0.103709                 0.055632      0.400205  0.161764\n",
       "Fatal Crash     12.978427                 0.003413      4.833397  4.849293"
      ]
     },
     "execution_count": 26,
     "metadata": {},
     "output_type": "execute_result"
    }
   ],
   "source": [
    "print('Chi-sauqre for each cell: ')\n",
    "chi2_bycell.columns = ['Darkness','Darkness / Lighted Road','Dusk or Dawn','Daylight']\n",
    "chi2_bycell.index= ['No Injuries','C Injury Crash','B Injury Crash','A Injury Crash','Fatal Crash']\n",
    "chi2_bycell"
   ]
  },
  {
   "cell_type": "code",
   "execution_count": 27,
   "metadata": {},
   "outputs": [
    {
     "name": "stdout",
     "output_type": "stream",
     "text": [
      "Cramer's V is:  0.042010734575179495\n"
     ]
    }
   ],
   "source": [
    "# Step 4: Perform statistical test\n",
    "n = np.sum(light_sverity_stat.values)\n",
    "q = np.min(light_sverity_stat.values.shape)\n",
    "cramerv = np.sqrt((chi2)/(n*(q-1)))\n",
    "print(\"Cramer's V is: \",cramerv)"
   ]
  },
  {
   "cell_type": "markdown",
   "metadata": {},
   "source": [
    "Step 5: Interpret the test results\n",
    "\n",
    "- For Chi-square test:\n",
    "    - The  p-value is <0.05, it means that the test is statistical significant.\n",
    "    - The Chi-square value is relatively large (but not that large), which means that in some cells, observed value is different from the expected value. \n",
    "- For Cramer's V test:\n",
    "    - There might be association between groups. But the association is not strong."
   ]
  },
  {
   "cell_type": "markdown",
   "metadata": {},
   "source": [
    "## Example 4: Continuous X * Discrete Y"
   ]
  },
  {
   "cell_type": "markdown",
   "metadata": {},
   "source": [
    "Test if population density and crash counts are monotonically associated"
   ]
  },
  {
   "cell_type": "code",
   "execution_count": 28,
   "metadata": {},
   "outputs": [
    {
     "data": {
      "text/plain": [
       "<matplotlib.collections.PathCollection at 0x1e11b5179c8>"
      ]
     },
     "execution_count": 28,
     "metadata": {},
     "output_type": "execute_result"
    },
    {
     "data": {
      "image/png": "[encoded data removed]",
      "text/plain": [
       "<Figure size 432x288 with 1 Axes>"
      ]
     },
     "metadata": {
      "needs_background": "light"
     },
     "output_type": "display_data"
    }
   ],
   "source": [
    "# Step 1: Examine the raw data\n",
    "plt.scatter(df_urban_train['Pop_den'],df_urban_train_label,alpha=0.1)"
   ]
  },
  {
   "cell_type": "markdown",
   "metadata": {},
   "source": [
    "Step 2: Select correct statistical test methods\n",
    "\n",
    "According to [Transportation-Study-Focused-CorrelationTest](./Transportation-Study-Focused-CorrelationTest.ipynb) chapter, Spearman's rank-order correlation should be used. \n"
   ]
  },
  {
   "cell_type": "code",
   "execution_count": 29,
   "metadata": {},
   "outputs": [],
   "source": [
    "# Step 3: Adapt data for statistical test\n",
    "df_test = pd.DataFrame()\n",
    "df_test['Pop_den'] = df_urban_train['Pop_den'].values\n",
    "df_test['CrashCounts'] = df_urban_train_label.values"
   ]
  },
  {
   "cell_type": "code",
   "execution_count": 30,
   "metadata": {},
   "outputs": [
    {
     "name": "stdout",
     "output_type": "stream",
     "text": [
      "rho is:  -0.017076371054715187\n",
      "p-value is:  2.820677357482795e-51\n"
     ]
    }
   ],
   "source": [
    "# Step 4: Perform statistical test\n",
    "rho, pval = scipy.stats.spearmanr(df_test['Pop_den'].values,df_test['CrashCounts'].values)\n",
    "print('rho is: ', rho)\n",
    "print('p-value is: ',pval)"
   ]
  },
  {
   "cell_type": "markdown",
   "metadata": {},
   "source": [
    "Step 5: Interpret the test results\n",
    "\n",
    "- From mathematical aspect\n",
    "    - Basing on the commonly used significance level (0.5), the p-value given by this test indicates that the test result is statistically significant. The Null Hypothesis \"There is no association between (the ranks of) the tested variables \" should be rejected\n",
    "    - There is a negative association between two variables. However, the small value indicates that the association is very weak.\n",
    "- Relate with the study purpose\n",
    "    - The population density are affected by many other features.\n"
   ]
  },
  {
   "cell_type": "markdown",
   "metadata": {},
   "source": [
    "## Example 5: Continuous X * Continuous Y"
   ]
  },
  {
   "cell_type": "markdown",
   "metadata": {},
   "source": [
    "Test if there is an association between Curve ratio and Crash rate(Number of crashes per vehicle miles traveled)"
   ]
  },
  {
   "cell_type": "code",
   "execution_count": 31,
   "metadata": {},
   "outputs": [
    {
     "data": {
      "text/plain": [
       "<matplotlib.collections.PathCollection at 0x1e11c8f7608>"
      ]
     },
     "execution_count": 31,
     "metadata": {},
     "output_type": "execute_result"
    },
    {
     "data": {
      "image/png": "[encoded data removed]",
      "text/plain": [
       "<Figure size 432x288 with 1 Axes>"
      ]
     },
     "metadata": {
      "needs_background": "light"
     },
     "output_type": "display_data"
    }
   ],
   "source": [
    "# Step 1: Examine the raw data\n",
    "plt.scatter(df_rural_train['curve_ratio'],df_rural_train_label.values/(df_rural_train['AADT'].values*df_rural_train['st_length'].values),alpha=0.1)"
   ]
  },
  {
   "cell_type": "markdown",
   "metadata": {},
   "source": [
    "Step 2: Select correct statistical test methods\n",
    "\n",
    "According to [Transportation-Study-Focused-CorrelationTest](./Transportation-Study-Focused-CorrelationTest.ipynb) chapter, Spearman's rank-order correlation should be used. \n"
   ]
  },
  {
   "cell_type": "code",
   "execution_count": 32,
   "metadata": {},
   "outputs": [],
   "source": [
    "# Step 3: Adapt data for statistical test\n",
    "X = df_rural_train['curve_ratio']\n",
    "Y = df_rural_train_label.values/(df_rural_train['AADT'].values*df_rural_train['st_length'].values)"
   ]
  },
  {
   "cell_type": "code",
   "execution_count": 33,
   "metadata": {},
   "outputs": [
    {
     "name": "stdout",
     "output_type": "stream",
     "text": [
      "rho:  0.020434501583433785\n",
      "p-value:  8.46349380654204e-20\n"
     ]
    }
   ],
   "source": [
    "# Step 4: Perform statistical test\n",
    "rho,pvalue = scipy.stats.spearmanr(X,Y)\n",
    "print('rho: ',rho)\n",
    "print('p-value: ',pvalue)"
   ]
  },
  {
   "cell_type": "markdown",
   "metadata": {},
   "source": [
    "Step 5: Interpret the test results\n",
    "\n",
    "- From mathematical aspect\n",
    "    - Basing on the commonly used significance level (0.5), the p-value given by this test indicates that the test result is statistically significant. The Null Hypothesis \"There is no association between (the ranks of) the two variables \" should be rejected\n",
    "    - There is a positive association between two variables. However, the small value indicates that the association is weak.\n",
    "- Relate with the study purpose\n",
    "    - A high curve ratio may lead to a road having high crash rate. However, the curve_ratio itself can not show the full picture. There are many other factors that should be studied together to determine which factors (or groups of factors) are relatively more informative."
   ]
  },
  {
   "cell_type": "code",
   "execution_count": null,
   "metadata": {},
   "outputs": [],
   "source": []
  }
 ],
 "metadata": {
  "kernelspec": {
   "display_name": "Python 3",
   "language": "python",
   "name": "python3"
  },
  "language_info": {
   "codemirror_mode": {
    "name": "ipython",
    "version": 3
   },
   "file_extension": ".py",
   "mimetype": "text/x-python",
   "name": "python",
   "nbconvert_exporter": "python",
   "pygments_lexer": "ipython3",
   "version": "3.7.6"
  }
 },
 "nbformat": 4,
 "nbformat_minor": 4
}
