{
 "cells": [
  {
   "cell_type": "markdown",
   "metadata": {},
   "source": [
    "[One-way ANOVA](#https://statistics.laerd.com/spss-tutorials/one-way-anova-using-spss-statistics.php)\n",
    "- Purpose: Test if there is a significant difference between the means of multiple groups.\n",
    "- Null Hypothesis: $H_0$: $u_1$ = $u_2$ = $\\dots$ = $u_k$\n",
    "    - $u$ is the group mean, $k$ is the number of groups\n",
    "- Requirements/Assumptions:\n",
    "    - The dependent variable is Continuous variable.\n",
    "    - Independent variable must have more than 2 independent groups. \n",
    "    - The dependent variable should be approximately normally distributed for each independent variable group. \n",
    "    - Observations are independent, and do not have significant outliers.\n",
    "- Drawbacks:\n",
    "    - Cannot tell which groups are statistically significant different from the others. Post-hoc-test is needed to help find out which group is different. \n",
    "        - [Tukey’s Honest Significant Difference (HSD)](#https://stats.libretexts.org/Bookshelves/Applied_Statistics/Book%3A_An_Introduction_to_Psychological_Statistics_(Foster_et_al.)/11%3A_Analysis_of_Variance/11.08%3A_Post_Hoc_Tests#:~:text=A%20post%20hoc%20test%20is,will%20give%20us%20similar%20answers.) is one of the commonly used post-hoc-test method.\n"
   ]
  },
  {
   "cell_type": "code",
   "execution_count": null,
   "metadata": {},
   "outputs": [],
   "source": []
  },
  {
   "cell_type": "markdown",
   "metadata": {},
   "source": [
    "Odds-ratio"
   ]
  },
  {
   "cell_type": "markdown",
   "metadata": {},
   "source": [
    "[Chi-square test of independence](https://www.ncbi.nlm.nih.gov/pmc/articles/PMC3900058/#:~:text=The%20assumptions%20of%20the%20Chi,the%20variables%20are%20mutually%20exclusive.)\n",
    "- Test if there is a statistically significant difference between each groups and find out which group is different from others.\n",
    "- Non-parametric\n",
    "- <mark>Code example:</mark>"
   ]
  },
  {
   "cell_type": "markdown",
   "metadata": {},
   "source": [
    "[Cramer's V Coefficient](http://www.acastat.com/statbook/chisqassoc.htm)\n",
    "\n",
    "- $V=\\sqrt{\\frac{\\chi^2}{n(q-1)}}$ \n",
    "    - q is the smaller number of columns or rows \n",
    "\n",
    "- Determine the strength of association after chi-square has determined significance. \n",
    "- Useful for comparing multiple Chi-square test statistics\n",
    "- <font color='blue'>Phi-coefficient</font> is a special case of Cramer's V for 2x2 table.\n",
    "- <mark>Code example:</mark>"
   ]
  },
  {
   "cell_type": "markdown",
   "metadata": {},
   "source": [
    "Goodman and Kruskal's test"
   ]
  },
  {
   "cell_type": "code",
   "execution_count": null,
   "metadata": {},
   "outputs": [],
   "source": []
  }
 ],
 "metadata": {
  "kernelspec": {
   "display_name": "Python 3",
   "language": "python",
   "name": "python3"
  },
  "language_info": {
   "codemirror_mode": {
    "name": "ipython",
    "version": 3
   },
   "file_extension": ".py",
   "mimetype": "text/x-python",
   "name": "python",
   "nbconvert_exporter": "python",
   "pygments_lexer": "ipython3",
   "version": "3.7.6"
  }
 },
 "nbformat": 4,
 "nbformat_minor": 4
}
