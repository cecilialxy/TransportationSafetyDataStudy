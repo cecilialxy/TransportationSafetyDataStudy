{
 "cells": [
  {
   "cell_type": "markdown",
   "metadata": {},
   "source": [
    "<a id='sections'></a>\n",
    "**Sections**\n",
    "\n",
    "- [**1. Methodology**](#methodology)\n",
    "    - [**Odds-ratio**](#Odds-ratio)\n",
    "    - [**Chi-square test**](#Chi-square-test)\n",
    "    - [**Cramer's V coefficient**](#Cramer-s-V-coefficient)\n",
    "    - [**Goodman-Kruskal's statistics**](#Goodman-Kruskal-s-statistics)\n",
    "    - [**One-way ANOVA**](#One-way-ANOVA)\n",
    "    - [**Pearson correlation**](#Pearson-correlation)\n",
    "    - [**Spearman rank-order correlation**](#Spearman-rank-order-correlation)\n",
    "    - [**Kendall's tau**](#Kendall-s-tau)\n",
    "- [**2. Other Resources**](#resources)\n",
    "- [**3. References**](#references)"
   ]
  },
  {
   "cell_type": "markdown",
   "metadata": {},
   "source": [
    "<a id='methodology'></a>\n",
    "# Methodology\n",
    "[[back to top](#sections)]"
   ]
  },
  {
   "cell_type": "markdown",
   "metadata": {},
   "source": [
    "<a id='Odds-ratio'></a>\n",
    "## Odds-ratio\n",
    "[[back to top](#sections)]"
   ]
  },
  {
   "cell_type": "markdown",
   "metadata": {},
   "source": [
    "[Odds-ratio](https://www.ncbi.nlm.nih.gov/pmc/articles/PMC2938757/) $OR$\n",
    "- Purpose: Measure the association between <font color='blue'>exposure and outcome</font>. Good for case control studies. \n",
    "- Mathematics: \n",
    " \n",
    "Odds = ${\\frac{p}{1-p}}$\n",
    "   - p is the probability of an event occurring.\n",
    "\n",
    "$OR$ (Odds-ratio) = Odds that the event will occur with the exposure / Odds that the event will occur without the exposure = ${\\frac{a}{b}}$/${\\frac{c}{d}}$\n",
    "\n",
    "|   | Outcome Status +   | Outcome Status -  |\n",
    "|------|------|------|\n",
    "|**Exposure Status +**|a (Number of exposed cases)| b (Number of exposed non-cases)|\n",
    "|**Exposure Status -**|c (Number of unexposed cases)| d (Number of unexposed non-cases) |\n",
    "\n",
    "- Interpretation:\n",
    "    - OR = 1 : Exposure does not affect the outcome.\n",
    "    - OR > 1 : Exposure associated with higher odds of outcome.\n",
    "    - OR < 1 : Exposure associated with lower odds of outcome. \n",
    "- Code example: [Scipy fisher_exact](https://docs.scipy.org/doc/scipy/reference/generated/scipy.stats.fisher_exact.html)   "
   ]
  },
  {
   "cell_type": "markdown",
   "metadata": {},
   "source": [
    "<a id='Chi-square-test'></a>\n",
    "## Chi-square test\n",
    "[[back to top](#sections)]"
   ]
  },
  {
   "cell_type": "markdown",
   "metadata": {},
   "source": [
    "[Chi-square test of independence](https://www.ncbi.nlm.nih.gov/pmc/articles/PMC3900058/#:~:text=The%20assumptions%20of%20the%20Chi,the%20variables%20are%20mutually%20exclusive) $\\chi^2$\n",
    "- Purpose: Test if there is a statistically significant <font color='blue'>difference between groups</font> and find out which group is different from others.\n",
    "- Non-parametric\n",
    "- Null Hypothesis: $H_0$: Variable_1 is independent of Variable_2. \n",
    "- Mathematics: $\\chi^2 = \\Sigma{\\frac{(observed-expected)^2}{expected}} $\n",
    "    - Degree of freedom: (r - 1) * (c - 1), r = number of rows, c = number of columns\n",
    "    - P-value: P($\\chi^2$>$ x^2 $), the probability of observing a value at least as extreme as the test statistic for a chi-square distribution with (r-1)(c-1) degrees of freedom.Compare the P-value with the predefined significance level $alpha$ (for example, $alpha$=0.05). If P-value < $alpha$, then $H_0$should be rejected. \n",
    "- Requirements/Assumptions:\n",
    "    - `Both independent variable and dependent variable are categorical variables`.\n",
    "    - Independent variable must have more than 2 independent groups.\n",
    "    - Observations are independent (thus it can not be used for pre-test and post-test observations).\n",
    "    - Expected frequencies for each cell should be at least one. Expected frequency for most cells should be at least 5. \n",
    "- Note: It only assess the association. It doesn't provide any causation inference.\n",
    "- Code example: [A Gentle Introduction to the Chi-Squared Test for Machine Learning](https://machinelearningmastery.com/chi-squared-test-for-machine-learning/)"
   ]
  },
  {
   "cell_type": "markdown",
   "metadata": {},
   "source": [
    "<a id='Cramer-s-V-coefficient'></a>\n",
    "## Cramer's V coefficient\n",
    "[[back to top](#sections)]"
   ]
  },
  {
   "cell_type": "markdown",
   "metadata": {},
   "source": [
    "[Cramer's V coefficient](http://www.acastat.com/statbook/chisqassoc.htm) $\\varphi_c$\n",
    "- Purpose: Determine the <font color='blue'>strength of association</font> **after Chi-square test** has determined significance. Useful for comparing multiple Chi-square test statistics.\n",
    "- Non-parametric\n",
    "- Mathematics: $V=\\sqrt{\\frac{\\chi^2}{n(q-1)}}$ \n",
    "    - q is the smaller number of columns or rows .\n",
    "    - n is the total number of observations.\n",
    "- Interpretation: A general rule of interpreting the association strength:\n",
    "    - $\\varphi_c$ < 0.1 : weak\n",
    "    - 0.1 < $\\varphi_c$ < 0.3 : moderate\n",
    "    - $\\varphi_c$ > 0.3 : strong\n",
    "- Requirements/Assumptions:\n",
    "    - Can be used for `Nominal variables or higher (Ordinal variable and Discrete variable)`.\n",
    "- Note: \n",
    "    - It's a symmetrical measure. Which variable is treated as dependent variable and which variable is treated as independent variable does not matter. Also, the order (arrangement) of rows and columns does not matter. \n",
    "    - [Phi-coefficient](http://www.people.vcu.edu/~pdattalo/702SuppRead/MeasAssoc/NominalAssoc.html#:~:text=Note%20measures%20of%20association%2C%20unlike,the%20coefficient%20to%20reach%201.0.) is a special case of Cramer's V for 2x2 table.\n",
    "- Code example: [Cramer's coefficient](https://stackoverflow.com/questions/20892799/using-pandas-calculate-cram%C3%A9rs-coefficient-matrix)"
   ]
  },
  {
   "cell_type": "markdown",
   "metadata": {},
   "source": [
    "<a id='Goodman-Kruskal-s-statistics'></a>\n",
    "## Goodman-Kruskal's statistics\n",
    "[[back to top](#sections)]"
   ]
  },
  {
   "cell_type": "markdown",
   "metadata": {},
   "source": [
    "Goodman-Kruskal's statistics\n",
    "\n",
    "- Non-parametric\n",
    "\n",
    "(1) [Goodman-Kruskal's tau](https://support.minitab.com/en-us/minitab/19/help-and-how-to/statistics/tables/supporting-topics/other-statistics-and-tests/what-are-the-goodman-kruskal-statistics/)\n",
    "- Purpose: Measure the direction and strength of association between `two Nominal variables`. It measures the percentage improvement in predictability of the dependent variable (column or row) given the value of independent variable (row or column).\n",
    "- Mathematics: [Goodman and Kruskal’s tau](http://uregina.ca/~gingrich/gkt.pdf)\n",
    "\n",
    "(2) [Goodman-Kruskal's lambda](https://en.wikipedia.org/wiki/Goodman_and_Kruskal%27s_lambda)\n",
    "- Purpose: The same as Goodman-Kruskal's tau.\n",
    "\n",
    "    \n",
    "(3) [Goodman-Kruskal's gamma](https://en.wikipedia.org/wiki/Goodman_and_Kruskal%27s_gamma) $\\gamma$\n",
    "- Purpose: Test if there is a <font color='blue'>monotonic</font> relationship between `two Ordinal variables`. \n",
    "- Mathematics:  $\\gamma = \\frac{N_c-N_d}{N_c+N_d}$\n",
    "\n",
    "    - $N_c$ is the total number of concordant pairs.\n",
    "    - $N_d$ is the total number of discordant pairs.\n",
    "- Interpretation:\n",
    "    - $\\gamma$ = +1 : Perfect positive association.  \n",
    "    - $\\gamma$ = -1 : Perfect negative association.\n",
    "    - $\\gamma$ = 0  : There is no association between the variables.\n",
    "- Note:\n",
    "    - It's a symmetrical measure. Which variable is treated as dependent variable and which one is treated as independent variable does not matter.\n",
    "    - The data outliers do not affect the results very much (very useful method if the data has outliers).\n",
    "    - Yule's Q is a special case for 2x2 table."
   ]
  },
  {
   "cell_type": "markdown",
   "metadata": {},
   "source": [
    "<a id='One-way-ANOVA'></a>\n",
    "## One-way ANOVA\n",
    "[[back to top](#sections)]"
   ]
  },
  {
   "cell_type": "markdown",
   "metadata": {},
   "source": [
    "[One-way ANOVA](https://statistics.laerd.com/spss-tutorials/one-way-anova-using-spss-statistics.php)\n",
    "- Purpose: Test if there is a significant <font color='blue'>difference between the means </font> of multiple groups.\n",
    "- Null Hypothesis: $H_0$: $u_1$ = $u_2$ = $\\dots$ = $u_k$\n",
    "    - $u$ is the group mean, $k$ is the number of groups\n",
    "- Requirements/Assumptions:\n",
    "    - `The dependent variable is Continuous variable. The independent variable must have more than 2 independent groups.` \n",
    "    - The dependent variable should be approximately normally distributed for each independent variable group. \n",
    "    - The variance of each group should be the same (homogeneity of variance).\n",
    "    - Observations are independent, and do not have significant outliers.\n",
    "- [Mathematics:](https://blog.minitab.com/blog/adventures-in-statistics-2/understanding-analysis-of-variance-anova-and-the-f-test)\n",
    "    - F-statistics = Variation between sample means / Variation within the samples\n",
    "- [Interpretation](https://statistics.laerd.com/statistical-guides/one-way-anova-statistical-guide.php)\n",
    "    - Under $H_0$, F-statistics should be close to 1.\n",
    "    - A small F means that the variation of group means is relatively small to the variation within groups. The groups cannot be separated. \n",
    "    - A high F means that the variation of group means is relatively larger than the variation within groups. The $H_0$ should be rejected.\n",
    "- Drawbacks:\n",
    "    - Cannot tell which groups are statistically significant different from the others. Post-hoc-test is needed to help find out which group is different. \n",
    "        - [Tukey’s Honest Significant Difference (HSD)](#https://stats.libretexts.org/Bookshelves/Applied_Statistics/Book%3A_An_Introduction_to_Psychological_Statistics_(Foster_et_al.)/11%3A_Analysis_of_Variance/11.08%3A_Post_Hoc_Tests#:~:text=A%20post%20hoc%20test%20is,will%20give%20us%20similar%20answers.) is one of the commonly used post-hoc-test method.\n",
    "- Code example: [Scipy f_oneway](https://docs.scipy.org/doc/scipy/reference/generated/scipy.stats.f_oneway.html)"
   ]
  },
  {
   "cell_type": "markdown",
   "metadata": {},
   "source": [
    "<a id='Pearson-correlation'></a>\n",
    "## Pearson correlation\n",
    "[[back to top](#sections)]"
   ]
  },
  {
   "cell_type": "markdown",
   "metadata": {},
   "source": [
    "[Pearson correlation](https://en.wikipedia.org/wiki/Pearson_correlation_coefficient) $r$\n",
    "- Purpose: Test if there is a <font color='blue'>linear</font> relationship between two variables, and the degree of linear relationship.\n",
    "- Requirements/Assumptions:\n",
    "    - `Both variables should be normally distributed`. \n",
    "    - There should be no significant outliers. Outliers may lead to a misleading result. \n",
    "    - Homoscedascity (equal variance)\n",
    "- Mathematics:\n",
    "$r$ = $\\frac{n\\Sigma x_i y_i -\\Sigma x_i \\Sigma y_i }{\\sqrt{n\\Sigma x_i^2-(\\Sigma x_i)^2}-\\sqrt{n\\Sigma y_i^2-(\\Sigma y_i)^2}}$\n",
    "    - $x_i$ is value of x for observation $i$ .\n",
    "    - $y_i$ is value of y for observation $i$ .\n",
    "    - $n$ is the number of observations.\n",
    "    - Degree of freedom: $n-2$\n",
    "\n",
    "- If one of the variable is binary, use Point-biserial correlation instead.\n",
    "- Code example: [Scipy pearsonr](https://docs.scipy.org/doc/scipy/reference/generated/scipy.stats.pearsonr.html)"
   ]
  },
  {
   "cell_type": "markdown",
   "metadata": {},
   "source": [
    "<a id='Spearman-rank-order-correlation'></a>\n",
    "## Spearman rank-order correlation\n",
    "[[back to top](#sections)]"
   ]
  },
  {
   "cell_type": "markdown",
   "metadata": {},
   "source": [
    "[Spearman rank-order correlation](https://www.statisticssolutions.com/correlation-pearson-kendall-spearman/) $\\rho_s$\n",
    "\n",
    "- Non-parametric\n",
    "- Purpose: Test if there is a <font color='blue'>monotonic</font> relationship between two variables, and the degree of monotonic relationship.\n",
    "- Requirements/Assumptions:\n",
    "    - `At least one variable is at Ordinal scale`.\n",
    "    - Can be used for either ordinal variables or for continuous data that has failed the assumptions necessary for conducting the Pearson's product-moment correlation test.\n",
    "- Null Hypothesis:  𝐻0 : There is no monotonic association between two variables.\n",
    "- [Mathematics](https://statistics.laerd.com/statistical-guides/spearmans-rank-order-correlation-statistical-guide.php):\n",
    "    - For data without tied ranks: $\\rho_s$ = 1- $\\frac{6\\Sigma d_i^2}{n(n^2-1)}$\n",
    "        - $d_i$ is the difference between the ranks of corresponding variables.\n",
    "        - $n$ is total number of observations.\n",
    "    - For data with tied ranks: $\\rho_s = \\frac{\\Sigma{(x_i - \\bar{x})(y_i - \\bar{y})}}{\\sqrt{\\Sigma(x_i - \\bar{x})^2\\Sigma(y_i - \\bar{y})^2}}$ \n",
    "        - $i$ is paired score.\n",
    "\n",
    "- Interpretation:\n",
    "    - $\\rho_s$ = +1 : Perfect positive association of ranks.\n",
    "    - $\\rho_s$ = 0 : No association between ranks.\n",
    "    - $\\rho_s$ = -1 : Perfect negative association of ranks.\n",
    "- Note:\n",
    "    - Make a scatter plot first to find if there is a monotonic relationship between the two variables. Then use $\\rho$ to determine  the degree to which a monotonic relationship is.\n",
    "- Code example: [Scipy spearmanr](https://docs.scipy.org/doc/scipy/reference/generated/scipy.stats.spearmanr.html#scipy.stats.spearmanr)"
   ]
  },
  {
   "cell_type": "markdown",
   "metadata": {},
   "source": [
    "<a id='Kendall-s-tau'></a>\n",
    "## Kendall's tau\n",
    "[[back to top](#sections)]"
   ]
  },
  {
   "cell_type": "markdown",
   "metadata": {},
   "source": [
    "[Kendall's tau](https://en.wikipedia.org/wiki/Kendall_rank_correlation_coefficient)  $\\tau$\n",
    "- Non parametric\n",
    "- Purpose: Measure the correspondence between the ranking of x and y.\n",
    "- Mathematics: $\\tau$ = $\\frac{n_c - n_d}{\\frac{1}{2}n(n-1)}$\n",
    "\n",
    "    - $n_c$ is the total number of concordant pairs.\n",
    "    - $n_d$ is the total number of discordant pairs.\n",
    "    - $n$ is total number of observations. $\\frac{1}{2}n(n-1)$ represents the total number of possible pairing of x and y.\n",
    "- Interpretation:\n",
    "    - $\\tau$ = +1 : The observations have identical rank\n",
    "    - $\\tau$ = 0  : The two variables are independent.\n",
    "    - $\\tau$ = -1 : One variable rank is the perfect reverse of the other.\n",
    "- code example: [Scipy kendalltau](https://docs.scipy.org/doc/scipy/reference/generated/scipy.stats.kendalltau.html)"
   ]
  },
  {
   "cell_type": "markdown",
   "metadata": {},
   "source": [
    "<a id='resources'></a>\n",
    "## Other resources\n",
    "[[back to top](#sections)]"
   ]
  },
  {
   "cell_type": "markdown",
   "metadata": {},
   "source": [
    "\n",
    "- [Tied Values](https://v8doc.sas.com/sashtml/stat/chap47/sect13.htm#:~:text=Tied%20values%20occur%20when%20two,%2C%20however%2C%20ties%20often%20occur.)\n",
    "- [What Statistical Test Do I Need?](http://www.mash.dept.shef.ac.uk/Resources/MASH-WhatStatisticalTestHandout.pdf)"
   ]
  },
  {
   "cell_type": "markdown",
   "metadata": {},
   "source": [
    "<a id='references'></a>\n",
    "## References\n",
    "[[back to top](#sections)]"
   ]
  },
  {
   "cell_type": "markdown",
   "metadata": {},
   "source": [
    "Please see the inserted external links in each section"
   ]
  }
 ],
 "metadata": {
  "kernelspec": {
   "display_name": "Python 3",
   "language": "python",
   "name": "python3"
  },
  "language_info": {
   "codemirror_mode": {
    "name": "ipython",
    "version": 3
   },
   "file_extension": ".py",
   "mimetype": "text/x-python",
   "name": "python",
   "nbconvert_exporter": "python",
   "pygments_lexer": "ipython3",
   "version": "3.7.6"
  },
  "toc-autonumbering": true
 },
 "nbformat": 4,
 "nbformat_minor": 4
}
