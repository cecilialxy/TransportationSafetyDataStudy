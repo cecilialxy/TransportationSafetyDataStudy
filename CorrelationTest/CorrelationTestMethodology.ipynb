{
 "cells": [
  {
   "cell_type": "markdown",
   "metadata": {},
   "source": [
    "[Chi-square test of independence](https://www.ncbi.nlm.nih.gov/pmc/articles/PMC3900058/#:~:text=The%20assumptions%20of%20the%20Chi,the%20variables%20are%20mutually%20exclusive.)\n",
    "- Test if there is a statistically significant difference between each groups and find out which group is different from others.\n",
    "- Non-parametric\n",
    "- <mark>Code example:</mark>"
   ]
  },
  {
   "cell_type": "markdown",
   "metadata": {},
   "source": [
    "[Cramer's V Coefficient](http://www.acastat.com/statbook/chisqassoc.htm)\n",
    "\n",
    "- $V=\\sqrt{\\frac{\\chi^2}{n(q-1)}}$ \n",
    "    - q is the smaller number of columns or rows \n",
    "\n",
    "- Determine the strength of association after chi-square has determined significance. \n",
    "- Useful for comparing multiple Chi-square test statistics\n",
    "- <font color='blue'>Phi-coefficient</font> is a special case of Cramer's V for 2x2 table.\n",
    "- <mark>Code example:</mark>"
   ]
  },
  {
   "cell_type": "code",
   "execution_count": null,
   "metadata": {},
   "outputs": [],
   "source": []
  }
 ],
 "metadata": {
  "kernelspec": {
   "display_name": "Python 3",
   "language": "python",
   "name": "python3"
  },
  "language_info": {
   "codemirror_mode": {
    "name": "ipython",
    "version": 3
   },
   "file_extension": ".py",
   "mimetype": "text/x-python",
   "name": "python",
   "nbconvert_exporter": "python",
   "pygments_lexer": "ipython3",
   "version": "3.7.6"
  }
 },
 "nbformat": 4,
 "nbformat_minor": 4
}
