{
 "cells": [
  {
   "cell_type": "markdown",
   "metadata": {},
   "source": [
    "# What information can we get by conducting a correlation test?"
   ]
  },
  {
   "cell_type": "markdown",
   "metadata": {},
   "source": [
    "\n",
    "- By proving the two variables have association, we may:\n",
    "    - Focus on studying the relevant features.\n",
    "- By finding the direction (+ or -) of the association, we may:\n",
    "    - Know how would the feature impact the transportation safety in general. \n",
    "    - Risk perception.\n",
    "- By measuring the strength of the association, we may:\n",
    "    - Know to what extent the features would impact the transportation safety (quantify the impact).\n",
    "    - Find areas are more dangerous by just examining the data.\n",
    "    - Pay more attention to these features when doing transportation planning."
   ]
  },
  {
   "cell_type": "markdown",
   "metadata": {},
   "source": [
    "# Understand data type"
   ]
  },
  {
   "cell_type": "markdown",
   "metadata": {},
   "source": [
    "- **Categorical data (qualitative)**\n",
    "    - **Nominal**: Named categories\n",
    "        - Example: \n",
    "            - Humans factors: Gender, Ethnic background, Driver condition\n",
    "            - Environmental factors: Day of week, Light condition\n",
    "            - Roadway factors: Roadway functional class, Traffic control type\n",
    "            - Vehicle factors: Vehicle condition, Vehicle type\n",
    "            - Crash results: Crash type\n",
    "    - **Ordinal**: Categories with an implied order. If presented by numbers, the difference between numbers does not have a meaning.\n",
    "        - Example: \n",
    "            - Humans factors: Income level\n",
    "            - Road evaluation: Grade level, Road condition level\n",
    "            - Crash results: Injury level\n",
    "- **Numerical data (quantitative)**\n",
    "    - **Discrete**: Only has particular numbers. Usually obtained by counting. \n",
    "        - Example: \n",
    "            - Roadway factors: Posted speed, Number of intersections \n",
    "            - Crash results: Number of crashes, Number of times\n",
    "    - **Continuous**: Numeric value, usually obtained by measuring.\n",
    "        - Can be further classified as Interval data and Ratio data\n",
    "            - **Interval**: No true zero. For example: Temperature\n",
    "            - **Ratio**: True zero exists. For example: Age, Height, Weight\n",
    "        - Example :\n",
    "            - Humans factors: Age\n",
    "            - Traffic factors: AADT, Bus trips\n",
    "            - Roadway factors: Street length, Curve ratio, Sidewalk condition score, Sidewalk width\n",
    "            - Environmental factors: Population density\n",
    "            - Crash results: Crash rate\n",
    "            "
   ]
  },
  {
   "cell_type": "markdown",
   "metadata": {},
   "source": [
    "# What methodology should we use?"
   ]
  },
  {
   "cell_type": "markdown",
   "metadata": {},
   "source": [
    "\n",
    "|  | Norminal X (Categorical)| Ordinal X (Categorical)| Discrete X (Numerical)| Continuous X (Numerical)|\n",
    "| --- | --- | --- |--- | --- |\n",
    "| **Norminal Y <br> (Categorical)** | **For 2x2 table**: <br> Chi-square + Phi-coefficient <br> Odds ratio <br> <font color='blue'>Example: <br> Test if installing road signs (Yes/No) would help prevent crash (Crash/No Crash) </font> <br> <br> **For mxn table**: <br> Chi-square + Cramer's V <br> Goodman-Kruskal tau <br> Goodman-Kruskal lambda <br> <font color='blue'>Example: <br> Test if Road functional classes and Crash type are independent </font> <br>| **For 2x2 table**: <br> phi-coefficient <br> <br> **For mxn table**: <br> Chi-square + Cramer's V <br> <font color='blue'>Example: <br> Test if Income level and Crash type are independent </font> <br> |Chi-square + Cramer's V <br> <font color='blue'>Example: <br> Test if having a lower Posted speed made any difference in helping prevent crash (Crash/No Crash)  </font> <br>| **For binary Y**: <br> Logistic regression <br> Point-Biseral correlation <br> <font color='blue'>Example: <br> Test if there is an association between Population density and Crash (Crash/No Crash) </font> <br> <br> **For Multi-class Y**: <br> Oneway ANOVA <br> Kruskal-Wallis H test <br> <font color='blue'>Example: <br> Test if there is an association between Population density and Crash type </font> <br>|\n",
    "| **Ordinal Y <br> (Categorical)** | **For Binary X**: <br> Rank-biserial correlation coefficient <br> <font color='blue'>Example: <br> Test if installing road signs (Yes/No) would help reduce Crash severity level </font> <br> <br> **For Multi-class X**: <br>Chi-square + Cramer's V <br> <font color='blue'>Example: <br> Test if Road functional class is associated with Crash severity level <br> (if a Crash severity level on a specific Road functional class is significantly higher than the others </font> <br>| Goodman-Kruskall's Gamma coefficient <br> Kendal's tau <br>  Spearman rank order correlation <br> Chi-square + Cramer's V <br> Somer's d <br> <font color='blue'>Example: <br> Test if Income level is associated with Crash severity level </font> <br> |Goodman-Kruskall's Gamma coefficient <br> Kendal's tau <br> Chi-square + Cramer's V <br> <font color='blue'>Example: <br> Test if Number of intersections is associated with Crash severity level </font> <br> | Kendall's coefficient of rank correlation <br> Spearman-rank correlation coefficient <br> <font color='blue'>Example: <br> Test if AADT is associated with Crash severity level </font> <br>|\n",
    "| **Discrete Y <br> (Numerical)** | **For Binary X**: <br> Point-Biseral correlation <br> Chi-square + Cramer's V <br> <font color='blue'>Example: <br> Test if installing Road sign would help reduce Crash counts </font> <br> <br> **For Multi-class X**: <br> Oneway ANOVA <br> Kruskal-Wallis H test <br> Chi-square + Cramer's V <br> <font color='blue'>Example: <br> Test if Road functional class is associated with Crash counts <br> (Test if there is a Road functional class has a significantly higher Crash counts than the others) </font> <br>| Goodman-Kruskall's Gamma coefficient <br> Kendal's tau <br> Chi-square + Cramer's V  <br> <font color='blue'>Example: <br> Test if having a better Road condition (Road condition level) would helo reduce Crash counts </font> <br> |Chi-square + Cramer's V <br> One-way ANOVA <br> Pearson correlation <br> Spearman correlation  <br> <font color='blue'>Example: <br> Test if Number of intersections is associated with Crash counts </font> <br> |  Pearson correlation <br> Spearman correlation <br> <font color='blue'>Example: <br> Test if Population density and Crash counts are monotonically associated </font> <br> |\n",
    "| **Continuous Y <br> (Numerical)** | **For Binary X**: <br> Point-Biseral correlation <br> Student T test <br> <font color='blue'>Example: <br> Test if there is a significant difference between AADT of Crash/Non-Crash sites </font> <br> <br> **For Multi-class X**: <br> Oneway ANOVA <br> Kruskal-Wallis H test | **For Binary X**: <br> Point-Biseral correlation <br> Student T test <br> **For Multi-class X**: <br> Oneway ANOVA <br> Kruskal-Wallis H test  <br> <font color='blue'>Example: <br> Test if there is an association between Road condition level and the Crash rate </font> <br> | Pearson correlation <br> Spearman correlation <br> <font color='blue'>Example: <br> Test if there is an association between Number of legs of the intersection and the Intersection crash rate </font> <br>|  Pearson correlation <br> Spearman correlation <br> Linear regression <br> <font color='blue'>Example: <br> Test if there is an association between AADT and Crash rate </font> <br>|"
   ]
  },
  {
   "cell_type": "markdown",
   "metadata": {},
   "source": [
    "Please refer to the the **CorrelationTestMethodology** chapter for the introduction of methodologies."
   ]
  }
 ],
 "metadata": {
  "kernelspec": {
   "display_name": "Python 3",
   "language": "python",
   "name": "python3"
  },
  "language_info": {
   "codemirror_mode": {
    "name": "ipython",
    "version": 3
   },
   "file_extension": ".py",
   "mimetype": "text/x-python",
   "name": "python",
   "nbconvert_exporter": "python",
   "pygments_lexer": "ipython3",
   "version": "3.7.6"
  }
 },
 "nbformat": 4,
 "nbformat_minor": 4
}
