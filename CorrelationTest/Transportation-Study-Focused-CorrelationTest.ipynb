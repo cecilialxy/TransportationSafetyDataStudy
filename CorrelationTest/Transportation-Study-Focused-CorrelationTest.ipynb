{
 "cells": [
  {
   "cell_type": "markdown",
   "metadata": {},
   "source": [
    "# Safety Data Correlation Analysis"
   ]
  },
  {
   "cell_type": "markdown",
   "metadata": {},
   "source": [
    "## Analysis Goal\n",
    "What information can we get by conducting a correlation test?"
   ]
  },
  {
   "cell_type": "markdown",
   "metadata": {},
   "source": [
    "- By proving the two variables have association, we may:\n",
    "    - Focus on studying the relevant features.\n",
    "- By finding the direction (+ or -) of the association, we may:\n",
    "    - Know how would the feature impact the transportation safety in general. \n",
    "    - Risk perception.\n",
    "- By measuring the strength of the association, we may:\n",
    "    - Know to what extent the features would impact the transportation safety (quantify the impact).\n",
    "    - Find areas that are more dangerous by just examining the data.\n",
    "    - Pay more attention to the relevant features when doing transportation planning."
   ]
  },
  {
   "cell_type": "markdown",
   "metadata": {},
   "source": [
    "## Understand data type"
   ]
  },
  {
   "cell_type": "markdown",
   "metadata": {},
   "source": [
    "- **Categorical data (qualitative)**\n",
    "    - **Nominal**: Named categories\n",
    "        - Example: \n",
    "            - Humans factors: Gender (Male, Female), Driver condition (Influenced/Not influenced by drugs)\n",
    "            - Environmental factors: Day of week (Weekday, Weekend), Light condition (Day light, dark)\n",
    "            - Roadway factors: Roadway functional class (Interstate, Arterial, Collector, Local roads), Traffic control type (Signal, Stop sign, etc.)\n",
    "            - Vehicle factors: Vehicle condition, Vehicle type (Truck, Van, Sedan)\n",
    "            - Crash results: Crash type (Sideswipe, Head-on, Angle, etc.)\n",
    "    - **Ordinal**: Categories with an implied order. If presented by numbers, the mathematical difference does not represent the relationship between the categories.\n",
    "        - Example: \n",
    "            - Humans factors: Income level (High, Medium, Low)\n",
    "            - Road evaluation: Grade level, Road condition level (Excellent, Good, Fair, Poor, Failed)\n",
    "            - Crash results: Injury level (A Injury, B Injury, C Injury)\n",
    "- **Numerical data (quantitative)**\n",
    "    - **Discrete**: Only has particular numbers. Usually obtained by counting. \n",
    "        - Example: \n",
    "            - Roadway factors: Posted speed, Number of intersections (1,2,3,4)\n",
    "            - Crash results: Number of crashes (1,2,3,etc.)\n",
    "    - **Continuous**: Numeric value, usually obtained by measuring.\n",
    "        - Can be further classified as Interval data and Ratio data\n",
    "            - **Interval**: No true zero. For example: Temperature\n",
    "            - **Ratio**: True zero exists. For example: Age, Height, Weight\n",
    "        - Example :\n",
    "            - Humans factors: Age\n",
    "            - Traffic factors: AADT, Bus trips\n",
    "            - Roadway factors: Street length, Curve ratio, Sidewalk condition score, Sidewalk width\n",
    "            - Environmental factors: Population density\n",
    "            - Crash results: Crash rate\n",
    "            "
   ]
  },
  {
   "cell_type": "markdown",
   "metadata": {},
   "source": [
    "## Methodology"
   ]
  },
  {
   "cell_type": "markdown",
   "metadata": {},
   "source": [
    "\n",
    "|  | Nominal X (Categorical)| Ordinal X (Categorical)| Discrete X (Numerical)| Continuous X (Numerical)|\n",
    "|:--- |:--- |:--- |:--- |:--- |\n",
    "| **Nominal Y <br> (Categorical)** | **For 2x2 table**: <br> * Phi-coefficient <br> * Odds ratio <br> <font color='blue'>Example: <br> Test if there is an association between road sign (Yes/No) and crash occurrence (Crash/No Crash) </font> <br> <br> **For mxn table**: <br> * Chi-square + Cramer's V <br> <font color='blue'>Example: <br> Test if road functional classes and crash type are independent </font> <br>| **For 2x2 table**: <br> * phi-coefficient <br> <br> **For mxn table**: <br> * Chi-square + Cramer's V <br> <font color='blue'>Example: <br> Test if pavement condition and crash type are independent </font> <br> | * Chi-square + Cramer's V<br> <font color='blue'>Example: <br> Test if posted speed is associated with crash occurrence (Crash/No Crash)  </font> <br>| **For binary Y**: <br> * Logistic regression <br> * `Point-Biseral correlation` <br> <font color='blue'>Example: <br> Test if there is an association between population density and crash occurrence (Crash/No Crash) </font> <br> <br> **For Multi-class Y**: <br> * Kruskal-Wallis H test <br> <font color='blue'>Example: <br> Test if there is an association between population density and crash type </font> <br>|\n",
    "| **Ordinal Y <br> (Categorical)** | **For Binary X**: <br> * Rank-biserial correlation coefficient <br> <font color='blue'>Example: <br> Test if road signs (Yes/No) are associated with crash severity level </font> <br> <br> **For Multi-class X**: <br>* Chi-square + Cramer's V <br> <font color='blue'>Example: <br> Test if road functional class is associated with crash severity level <br> (if a Crash severity level on a specific road functional class is significantly higher than the others </font> <br> | **For 2x2 table**: <br> * Yule's Q <br> <br> **For mxn table**: <br> * Goodman-Kruskal's Gamma  <br> * Kendal's tau <br> * Chi-square + Cramer's V <br> * Somer's d <br> <font color='blue'>Example: <br> Test if pavement condition is associated with crash severity level </font> <br> | * Goodman-Kruskal's Gamma <br> * Kendal's tau <br> * Chi-square + Cramer's V <br> * Spearman's rank-order correlation <br>  <font color='blue'>Example: <br> Test if number of intersections is associated with crash severity level </font> <br> | * Kendall's coefficient of rank  <br> * Spearman's rank-order correlation <br> <font color='blue'>Example: <br> Test if AADT is associated with crash severity level </font> <br>|\n",
    "| **Discrete Y <br> (Numerical)** | **For Binary X**: <br> * Point-Biseral correlation <br> * Chi-square + Cramer's V <br> <font color='blue'>Example: <br> Test if road signs are associated with crash counts </font> <br> <br> **For Multi-class X**: <br> * Kruskal-Wallis H test <br> * Chi-square + Cramer's V <br> <font color='blue'>Example: <br> Test if road functional class is associated with crash counts <br> (Test if there is a Road functional class has a significantly higher Crash counts than the others) </font> <br>| * Goodman-Kruskal's Gamma <br> * Kendal's tau <br> * Chi-square + Cramer's V  <br> * Spearman's rank-order correlation <br> <font color='blue'>Example: <br> Test if pavement conditions are associated with crash counts </font> <br> |* Chi-square + Cramer's V  <br> * Spearman's rank-order correlation <br>  <font color='blue'>Example: <br> Test if number of intersections is associated with crash counts </font> <br> | * Spearman's rank-order correlation <br> <font color='blue'>Example: <br> Test if population density and crash counts are monotonically associated </font> <br> |\n",
    "| **Continuous Y <br> (Numerical)** | **For Binary X**: <br> * Point-Biseral correlation <br> * Student T test <br> <font color='blue'>Example: <br> Test if there is a significant difference between AADT of Crash/Non-Crash sites </font> <br> <br> **For Multi-class X**: <br> * Oneway ANOVA <br> * Kruskal-Wallis H test | **For Binary X**: <br> * Point-Biseral correlation <br> * Student T test  <br> <br> **For Multi-class X**: <br> * Oneway ANOVA <br> * Kruskal-Wallis H test  <br> * Spearman's rank-order correlation <br> <font color='blue'>Example: <br> Test if the crash rates are different under different pavement condition levels </font> <br> | * Spearman's rank-order correlation <br> * Oneway ANOVA <br> <font color='blue'>Example: <br> Test if there is an association between number of legs of the intersection and the intersection crash rate </font> <br>|  * Pearson correlation <br> * Spearman's rank-order correlation <br> * Linear regression <br> <font color='blue'>Example: <br> Test if there is an association between AADT and Crash rate </font> <br>|\n"
   ]
  },
  {
   "cell_type": "markdown",
   "metadata": {},
   "source": [
    "<font color='grey' size=3>**Please refer to the the [CorrelationTestMethodology](./CorrelationTestMethodology.ipynb) chapter for the introduction of methodologies.**</font>\n",
    "\n",
    "<font color='grey' size=3>**Please refer to the the [CorrelationTestExample](./CorrelationTestExample.ipynb) chapter for correlation test examples.**</font>"
   ]
  },
  {
   "cell_type": "code",
   "execution_count": null,
   "metadata": {},
   "outputs": [],
   "source": []
  }
 ],
 "metadata": {
  "kernelspec": {
   "display_name": "Python 3",
   "language": "python",
   "name": "python3"
  },
  "language_info": {
   "codemirror_mode": {
    "name": "ipython",
    "version": 3
   },
   "file_extension": ".py",
   "mimetype": "text/x-python",
   "name": "python",
   "nbconvert_exporter": "python",
   "pygments_lexer": "ipython3",
   "version": "3.7.6"
  }
 },
 "nbformat": 4,
 "nbformat_minor": 4
}
